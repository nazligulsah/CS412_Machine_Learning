{
  "nbformat": 4,
  "nbformat_minor": 5,
  "metadata": {
    "kernelspec": {
      "display_name": "Python 3.7 (tensorflow)",
      "language": "python",
      "name": "tensorflow"
    },
    "language_info": {
      "codemirror_mode": {
        "name": "ipython",
        "version": 3
      },
      "file_extension": ".py",
      "mimetype": "text/x-python",
      "name": "python",
      "nbconvert_exporter": "python",
      "pygments_lexer": "ipython3",
      "version": "3.7.10"
    },
    "colab": {
      "provenance": [],
      "include_colab_link": true
    }
  },
  "cells": [
    {
      "cell_type": "markdown",
      "metadata": {
        "id": "view-in-github",
        "colab_type": "text"
      },
      "source": [
        "<a href=\"https://colab.research.google.com/github/nazligulsah/Machine-Learning/blob/main/Hw2_nazligulsah.ipynb\" target=\"_parent\"><img src=\"https://colab.research.google.com/assets/colab-badge.svg\" alt=\"Open In Colab\"/></a>"
      ]
    },
    {
      "cell_type": "markdown",
      "metadata": {
        "id": "vMzUXgel6No1"
      },
      "source": [
        "# **CS412 - Machine Learning - 2022**\n",
        "## Assignment #2\n",
        "100 pts\n",
        "\n",
        "\n",
        "## Goal\n",
        "\n",
        "The goal of this homework is two-fold:\n",
        "\n",
        "*   Gain experience with neural network approaches\n",
        "*   Gain experience with the Keras library\n",
        "\n",
        "## Dataset\n",
        "You are going to use a house price dataset that we prepared for you, that contains four independent variables (predictors) and one target variable. The task is predicting the target variable (house price) from the predictors (house attributes).\n",
        "\n",
        "\n",
        "Download the data from SuCourse. Reserve 10% of the training data for validation and use the rest for development (learning your models). The official test data we provide (1,200 samples) should only be used for testing at the end, and not model selection.\n",
        "\n",
        "## Task \n",
        "Build a regressor with a neural network that has only one hidden layer, using the Keras library function calls to predict house prices in the provided dataset.\n",
        "\n",
        "Your code should follow the given skeleton and try the indicated parameters.\n",
        "\n",
        "## Preprocessing and Meta-parameters\n",
        "You should try 10,50 and 100 as hidden node count. \n",
        "\n",
        "You should  decide on the learning rate (step size), you can try values such as 0.001, 0.01, 0.1, but you may need to increase if learning is very slow or decrease if you see the loss increase!\n",
        "\n",
        "You can use either sigmoid or Relu activations for the hidden nodes (indicate with your results) and you should know what to use for the activation for the output layer, input, output layer sizes, and the suitable loss function. \n",
        "\n",
        "## Software: \n",
        "\n",
        "Keras is a library that we will use especially for deep learning, but also with basic neural network functionality of course.\n",
        "\n",
        "You may find the necessary function references here: \n",
        "\n",
        "http://scikit-learn.org/stable/supervised_learning.html\n",
        "https://keras.io/api/\n",
        "\n",
        "When you search for Dense for instance, you should find the relevant function and explained parameters, easily.\n",
        "\n",
        "## Submission: \n",
        "\n",
        "Fill this notebook. Write the report section at the end.\n",
        "\n",
        "You should prepare a separate pdf document as your homework (name hw2-CS412-yourname.pdf) which consists of the report (Part 8) of the notebook for easy viewing -and- include a link to your notebook from within the pdf report (make sure to include the link obtained from the #share link on top right, **be sure to share with Sabancı University first** as otherwise there will be access problems.). Also, do not forget to add your answers for Questions 2 and 3 on the assignment document."
      ],
      "id": "vMzUXgel6No1"
    },
    {
      "cell_type": "code",
      "source": [
        "from google.colab import drive\n",
        "drive.mount('/content/drive')"
      ],
      "metadata": {
        "colab": {
          "base_uri": "https://localhost:8080/"
        },
        "id": "qSbzGpOlIs5o",
        "outputId": "bcb3b3a4-9d81-412b-8495-de76c4eb74ac"
      },
      "id": "qSbzGpOlIs5o",
      "execution_count": null,
      "outputs": [
        {
          "output_type": "stream",
          "name": "stdout",
          "text": [
            "Drive already mounted at /content/drive; to attempt to forcibly remount, call drive.mount(\"/content/drive\", force_remount=True).\n"
          ]
        }
      ]
    },
    {
      "cell_type": "markdown",
      "metadata": {
        "id": "cBtSa7Pc8tCn"
      },
      "source": [
        "##1) Initialize\n",
        "\n",
        "*   First make a copy of the notebook given to you as a starter.\n",
        "\n",
        "*   Make sure you choose Connect form upper right.\n"
      ],
      "id": "cBtSa7Pc8tCn"
    },
    {
      "cell_type": "markdown",
      "metadata": {
        "id": "hFNmGxqa9G2O"
      },
      "source": [
        "## 2) Load training dataset\n",
        "\n",
        "* Load the datasets (train.csv, test.csv) provided on SuCourse on your Google drive and read the datasets using Google Drive's mount functions. \n",
        "You may find the necessary functions here: \n",
        "https://colab.research.google.com/notebooks/io.ipynb"
      ],
      "id": "hFNmGxqa9G2O"
    },
    {
      "cell_type": "code",
      "metadata": {
        "id": "nza2i-JK92eu",
        "colab": {
          "base_uri": "https://localhost:8080/"
        },
        "outputId": "e433b1ac-f6bb-4612-b6cb-bbd67a986cfc"
      },
      "source": [
        "from google.colab import drive\n",
        "drive.mount('/content/drive/') \n",
        "# click on the url that pops up and give the necessary authorizations"
      ],
      "id": "nza2i-JK92eu",
      "execution_count": null,
      "outputs": [
        {
          "output_type": "stream",
          "name": "stdout",
          "text": [
            "Drive already mounted at /content/drive/; to attempt to forcibly remount, call drive.mount(\"/content/drive/\", force_remount=True).\n"
          ]
        }
      ]
    },
    {
      "cell_type": "markdown",
      "metadata": {
        "id": "s9P--030AOoK"
      },
      "source": [
        "\n",
        "\n",
        "*   Set your notebooks working directory to the path where the datasets are uploaded (cd is the linux command for change directory) \n",
        "*   You may need to use cd drive/MyDrive depending on your path to the datasets on Google Drive. (don't comment the code in the cells when using linux commands)\n",
        "\n",
        "\n",
        "\n",
        "\n"
      ],
      "id": "s9P--030AOoK"
    },
    {
      "cell_type": "code",
      "metadata": {
        "id": "lplqod5D_cf1",
        "colab": {
          "base_uri": "https://localhost:8080/"
        },
        "outputId": "a940726e-8e6e-4c55-a4c5-3a4f10f4d6cf"
      },
      "source": [
        "cd drive/My\\ Drive"
      ],
      "id": "lplqod5D_cf1",
      "execution_count": null,
      "outputs": [
        {
          "output_type": "stream",
          "name": "stdout",
          "text": [
            "[Errno 2] No such file or directory: 'drive/My Drive'\n",
            "/content/drive/My Drive\n"
          ]
        }
      ]
    },
    {
      "cell_type": "markdown",
      "metadata": {
        "id": "IfMT3IgEAugF"
      },
      "source": [
        "* List the files in the current directory."
      ],
      "id": "IfMT3IgEAugF"
    },
    {
      "cell_type": "code",
      "metadata": {
        "id": "aoopxfoX-VOq",
        "colab": {
          "base_uri": "https://localhost:8080/"
        },
        "outputId": "1765c8f1-9c9a-4ec0-b893-5628ff971b60"
      },
      "source": [
        "ls"
      ],
      "id": "aoopxfoX-VOq",
      "execution_count": null,
      "outputs": [
        {
          "output_type": "stream",
          "name": "stdout",
          "text": [
            " \u001b[0m\u001b[01;34m26392_önen_nazligülşah_step2\u001b[0m/\n",
            " 26392-round1-tweet.txt\n",
            " 26392-round1-user.txt\n",
            " 97-things-every-programmer-should-know-en.pdf\n",
            "\u001b[01;34m'Abuse Sharing Platform'\u001b[0m/\n",
            " aftermidterm.ipynb\n",
            " AKARI.docx\n",
            " \u001b[01;34mal\u001b[0m/\n",
            " \u001b[01;34mAl2\u001b[0m/\n",
            " \u001b[01;34mal3\u001b[0m/\n",
            "\u001b[01;34m'bitirme projesi'\u001b[0m/\n",
            "\u001b[01;34m'bonus assignment'\u001b[0m/\n",
            " \u001b[01;34mClassroom\u001b[0m/\n",
            " client.zip\n",
            "\u001b[01;34m'Colab Notebooks'\u001b[0m/\n",
            " \u001b[01;34mCS201\u001b[0m/\n",
            " \u001b[01;34mCS204\u001b[0m/\n",
            "'CS210 PROJ.gdoc'\n",
            " \u001b[01;34mCS300\u001b[0m/\n",
            " \u001b[01;34mCS301\u001b[0m/\n",
            " \u001b[01;34mcs301-project\u001b[0m/\n",
            " \u001b[01;34mCS305\u001b[0m/\n",
            " \u001b[01;34mcs308\u001b[0m/\n",
            " \u001b[01;34mCS310\u001b[0m/\n",
            " \u001b[01;34mcs310-Project\u001b[0m/\n",
            " \u001b[01;34mCS411\u001b[0m/\n",
            "\u001b[01;34m'cse204 video'\u001b[0m/\n",
            "'cv  (1).pdf'\n",
            " cv.docx\n",
            "'cv .pdf'\n",
            " CV.pdf\n",
            "'D4 PROPOSAL.gdoc'\n",
            "'ddq-dpwa-fvr - Apr 4, 2022.gjam'\n",
            " DomainFunction.ipynb\n",
            " \u001b[01;34mEcon\u001b[0m/\n",
            " \u001b[01;34mENS203\u001b[0m/\n",
            " \u001b[01;34mENS211\u001b[0m/\n",
            "'ENS 491 – Case Study 2.gdoc'\n",
            "'ENS 491 – Case Study 3.gdoc'\n",
            " evaluation-round1-tweet.csv\n",
            " evaluation-round1-user.csv\n",
            " \u001b[01;34mFinal\u001b[0m/\n",
            " Form1-2.cs\n",
            " Form1-7.cs\n",
            " Form1-8.cs\n",
            "'Getting started.pdf'\n",
            " \u001b[01;34mgülşah2\u001b[0m/\n",
            "\u001b[01;34m'gülşah2 (1)'\u001b[0m/\n",
            "\u001b[01;34m'GÜLŞAH SABANCI ANI DEFTERİ'\u001b[0m/\n",
            "\u001b[01;34m'hakan- cs204 videos'\u001b[0m/\n",
            " \u001b[01;36mhappiness.csv\u001b[0m@\n",
            " homework10.ipynb\n",
            "'How Learning Works_Chapter1.pdf'\n",
            " \u001b[01;34mHUM221\u001b[0m/\n",
            " hw1-q3.ipynb\n",
            " hw1-q5.ipynb\n",
            " hw1-q7.ipynb\n",
            " IMG_8677.jpg\n",
            " IMG_8679.jpg\n",
            "'J.AI PRESENTATION.pptx'\n",
            " loop.ipynb\n",
            " \u001b[01;34mMAT201\u001b[0m/\n",
            "\u001b[01;34m'MATH 204'\u001b[0m/\n",
            " \u001b[01;34mMATH306\u001b[0m/\n",
            " meddra_all_se.csv\n",
            " \u001b[01;34mmgmt402\u001b[0m/\n",
            " midterm.ipynb\n",
            "\u001b[01;36m'Miro slides Democracy and Dictatorship.pdf'\u001b[0m@\n",
            " ML202202_Recitation_1.ipynb\n",
            " ML202202_Recitation_2.ipynb\n",
            " mrc_table3.csv\n",
            "'my work2.ipynb'\n",
            "'my work and reciattion.ipynb'\n",
            " nazligulsah_D4_Nazlı_Gülşah_Önen._Take_home_exam1.docx.pdf\n",
            " nazligulsah_önen_nazligülşah.zip\n",
            "\u001b[01;36m'Populism 2021 -miro.pdf'\u001b[0m@\n",
            " \u001b[01;34mproj201\u001b[0m/\n",
            "\u001b[01;34m'proje proposal'\u001b[0m/\n",
            " \u001b[01;34mPSY201\u001b[0m/\n",
            " Q1.ipynb\n",
            " Q1.py\n",
            "'Q2 (1).ipynb'\n",
            " Q2.ipynb\n",
            " Q2.py\n",
            " Q3.ipynb\n",
            " Q3.py\n",
            " Q4.ipynb\n",
            " Q4.py\n",
            " Q5.ipynb\n",
            " Q5.py\n",
            "'Q6 (1).ipynb'\n",
            " Q6.ipynb\n",
            " Q6.py\n",
            " Q7.ipynb\n",
            " q8.ipynb\n",
            " QUIZ.ipynb\n",
            "\u001b[01;36m'Religion and politics 2021.pdf'\u001b[0m@\n",
            " repos.zip\n",
            " repos.zip.zip\n",
            "\u001b[01;36m'Rule of Law -Miro.pdf'\u001b[0m@\n",
            "'server - Kopya.zip'\n",
            " \u001b[01;34msoftware-project\u001b[0m/\n",
            " SpeedDatingData.csv\n",
            " \u001b[01;34msps101\u001b[0m/\n",
            " \u001b[01;34msps102\u001b[0m/\n",
            " StarBoard-2018-09-25-14-33-28.gdoc\n",
            " \u001b[01;34mstep2\u001b[0m/\n",
            "'Take-Home Exam #3.gdoc'\n",
            " test.csv\n",
            "\u001b[01;34m'the biomics dowloand books'\u001b[0m/\n",
            "\u001b[01;36m'The concept of law Miro.pdf'\u001b[0m@\n",
            " tmdb_5000_movies.csv\n",
            " train.csv\n",
            " training-tweet.csv\n",
            " training-user.csv\n",
            "'transcript (1).pdf'\n",
            " transcript.pdf\n",
            " tweet_metadata.jsons.gz\n",
            " \u001b[01;34mumut\u001b[0m/\n",
            " Untitled0.ipynb\n",
            " Untitled10.ipynb\n",
            " Untitled11.ipynb\n",
            " Untitled12.ipynb\n",
            " Untitled13.ipynb\n",
            " Untitled14.ipynb\n",
            " Untitled15.ipynb\n",
            " Untitled16.ipynb\n",
            " Untitled17.ipynb\n",
            " Untitled18.ipynb\n",
            " Untitled19.ipynb\n",
            " Untitled1.ipynb\n",
            " Untitled20.ipynb\n",
            " Untitled2.ipynb\n",
            " Untitled3.ipynb\n",
            " Untitled4.ipynb\n",
            " Untitled5.ipynb\n",
            " Untitled6.ipynb\n",
            " Untitled7.ipynb\n",
            " Untitled8.ipynb\n",
            " Untitled9.ipynb\n",
            "'Untitled spreadsheet (1).gsheet'\n",
            "'Untitled spreadsheet.gsheet'\n",
            " user_profiles.jsons.gz\n",
            " user_tweets.jsons.gz\n",
            " \u001b[01;36mW9H3.mp4\u001b[0m@\n",
            "'xes-kaat-oob - Sep 16, 2021.gjam'\n"
          ]
        }
      ]
    },
    {
      "cell_type": "markdown",
      "metadata": {
        "id": "fZh3Y5AlBHAs"
      },
      "source": [
        "##3) Understanding the dataset (5 pts)\n",
        "\n",
        "There are alot of functions that can be used to know more about this dataset\n",
        "\n",
        "- What is the shape of the training set (num of samples X number of attributes) **[shape function can be used]**\n",
        "\n",
        "- Display attribute names **[columns function can be used]**\n",
        "\n",
        "- Display the first 5 rows from training dataset **[head or sample functions can be used]**\n",
        "\n",
        ".."
      ],
      "id": "fZh3Y5AlBHAs"
    },
    {
      "cell_type": "code",
      "metadata": {
        "id": "658e2be2",
        "colab": {
          "base_uri": "https://localhost:8080/"
        },
        "outputId": "e71ab6cf-db9e-47ba-8436-8efc008e2085"
      },
      "source": [
        "# import the necessary libraries\n",
        "\n",
        "import numpy as np\n",
        "import pandas as pd\n",
        "import matplotlib.pyplot as plt\n",
        "\n",
        "train_df = pd.read_csv(\"train.csv\")\n",
        "# show first 10 elements of the training data\n",
        "print(\"Fist 10 element of the training data\")\n",
        "print(train_df.head(10))"
      ],
      "id": "658e2be2",
      "execution_count": null,
      "outputs": [
        {
          "output_type": "stream",
          "name": "stdout",
          "text": [
            "Fist 10 element of the training data\n",
            "   sqmtrs  nrooms   view crime_rate          price\n",
            "0     251       5   west        low  925701.721399\n",
            "1     211       3   west       high  622237.482636\n",
            "2     128       5   east        low  694998.182376\n",
            "3     178       3   east       high  564689.015926\n",
            "4     231       3   west        low  811222.970379\n",
            "5     253       5  north       high  766250.032506\n",
            "6     101       1  north        low  512749.401548\n",
            "7     242       1  north       high  637010.760148\n",
            "8     174       5   west       high  638136.374869\n",
            "9     328       2  south       high  787704.988273\n"
          ]
        }
      ]
    },
    {
      "cell_type": "code",
      "metadata": {
        "id": "12bbf0c6",
        "colab": {
          "base_uri": "https://localhost:8080/"
        },
        "outputId": "9115d3bc-a40e-452e-b01e-ef7f3581fcb5"
      },
      "source": [
        "# print the shape of data\n",
        "\n",
        "print(\"Data dimensionality is: \")\n",
        "print(train_df.shape)\n",
        "print('Data Summary: ')\n",
        "print(train_df.info())\n",
        "\n",
        "print(train_df[['sqmtrs', 'nrooms', 'price']].describe())\n",
        "\n",
        "# also give some statistics about the data like mean, standard deviation etc.\n",
        "\n"
      ],
      "id": "12bbf0c6",
      "execution_count": null,
      "outputs": [
        {
          "output_type": "stream",
          "name": "stdout",
          "text": [
            "Data dimensionality is: \n",
            "(4800, 5)\n",
            "Data Summary: \n",
            "<class 'pandas.core.frame.DataFrame'>\n",
            "RangeIndex: 4800 entries, 0 to 4799\n",
            "Data columns (total 5 columns):\n",
            " #   Column      Non-Null Count  Dtype  \n",
            "---  ------      --------------  -----  \n",
            " 0   sqmtrs      4800 non-null   int64  \n",
            " 1   nrooms      4800 non-null   int64  \n",
            " 2   view        4800 non-null   object \n",
            " 3   crime_rate  4800 non-null   object \n",
            " 4   price       4800 non-null   float64\n",
            "dtypes: float64(1), int64(2), object(2)\n",
            "memory usage: 187.6+ KB\n",
            "None\n",
            "            sqmtrs       nrooms         price\n",
            "count  4800.000000  4800.000000  4.800000e+03\n",
            "mean    225.033542     2.983958  7.257570e+05\n",
            "std      71.851436     1.421251  1.510411e+05\n",
            "min     100.000000     1.000000  3.564985e+05\n",
            "25%     163.000000     2.000000  6.179536e+05\n",
            "50%     226.000000     3.000000  7.292999e+05\n",
            "75%     287.000000     4.000000  8.389284e+05\n",
            "max     349.000000     5.000000  1.076067e+06\n"
          ]
        }
      ]
    },
    {
      "cell_type": "code",
      "metadata": {
        "id": "dfe277e0"
      },
      "source": [],
      "id": "dfe277e0",
      "execution_count": null,
      "outputs": []
    },
    {
      "cell_type": "markdown",
      "metadata": {
        "id": "GtBJzQ6NB1Kz"
      },
      "source": [
        "##4) Preprocessing Steps (10 pts)\n",
        "\n",
        "As some of the features (predictive variables) on this dataset are categorical (non-numeric) you need to do some preprocessing for those features.\n",
        "\n",
        "You can use as many **dummy or indicator variables** as there are categories within one feature. You can also look at pandas' get_dummies or keras.utils.to_categorical functions.\n",
        "\n",
        "In neural networks, scaling of the features are important, because they affect the net input of a neuron as a whole. You should use **MinMax scaler** on sklearn for this task, which scales the variables between 0 and 1 on by default. (Remember that mean-squared error loss function tends to be extremely large with unscaled features.)\n"
      ],
      "id": "GtBJzQ6NB1Kz"
    },
    {
      "cell_type": "code",
      "source": [
        "train_df = pd.get_dummies(train_df)\n",
        "\n",
        "print(train_df.head())"
      ],
      "metadata": {
        "colab": {
          "base_uri": "https://localhost:8080/"
        },
        "id": "9rPgpyTTRnBU",
        "outputId": "402eef9a-9431-4414-cdf8-3864be569bb4"
      },
      "id": "9rPgpyTTRnBU",
      "execution_count": null,
      "outputs": [
        {
          "output_type": "stream",
          "name": "stdout",
          "text": [
            "   sqmtrs  nrooms          price  view_east  view_north  view_south  \\\n",
            "0     251       5  925701.721399          0           0           0   \n",
            "1     211       3  622237.482636          0           0           0   \n",
            "2     128       5  694998.182376          1           0           0   \n",
            "3     178       3  564689.015926          1           0           0   \n",
            "4     231       3  811222.970379          0           0           0   \n",
            "\n",
            "   view_west  crime_rate_high  crime_rate_low  \n",
            "0          1                0               1  \n",
            "1          1                1               0  \n",
            "2          0                0               1  \n",
            "3          0                1               0  \n",
            "4          1                0               1  \n"
          ]
        }
      ]
    },
    {
      "cell_type": "code",
      "source": [
        "# scale the features between 0-1\n",
        "from sklearn.preprocessing import MinMaxScaler\n",
        "msc = MinMaxScaler()\n",
        "scaled = msc.fit_transform(train_df)\n",
        "\n",
        "train_df = pd.DataFrame(scaled, columns=train_df.columns, index=train_df.index)\n",
        "train_df.head(10)"
      ],
      "metadata": {
        "colab": {
          "base_uri": "https://localhost:8080/",
          "height": 363
        },
        "id": "u0K8ilHyK71U",
        "outputId": "47cd8831-d6c6-49ff-fa96-e5af580ea896"
      },
      "id": "u0K8ilHyK71U",
      "execution_count": null,
      "outputs": [
        {
          "output_type": "execute_result",
          "data": {
            "text/plain": [
              "     sqmtrs  nrooms     price  view_east  view_north  view_south  view_west  \\\n",
              "0  0.606426    1.00  0.791034        0.0         0.0         0.0        1.0   \n",
              "1  0.445783    0.50  0.369303        0.0         0.0         0.0        1.0   \n",
              "2  0.112450    1.00  0.470421        1.0         0.0         0.0        0.0   \n",
              "3  0.313253    0.50  0.289327        1.0         0.0         0.0        0.0   \n",
              "4  0.526104    0.50  0.631941        0.0         0.0         0.0        1.0   \n",
              "5  0.614458    1.00  0.569441        0.0         1.0         0.0        0.0   \n",
              "6  0.004016    0.00  0.217145        0.0         1.0         0.0        0.0   \n",
              "7  0.570281    0.00  0.389834        0.0         1.0         0.0        0.0   \n",
              "8  0.297189    1.00  0.391398        0.0         0.0         0.0        1.0   \n",
              "9  0.915663    0.25  0.599257        0.0         0.0         1.0        0.0   \n",
              "\n",
              "   crime_rate_high  crime_rate_low  \n",
              "0              0.0             1.0  \n",
              "1              1.0             0.0  \n",
              "2              0.0             1.0  \n",
              "3              1.0             0.0  \n",
              "4              0.0             1.0  \n",
              "5              1.0             0.0  \n",
              "6              0.0             1.0  \n",
              "7              1.0             0.0  \n",
              "8              1.0             0.0  \n",
              "9              1.0             0.0  "
            ],
            "text/html": [
              "\n",
              "  <div id=\"df-d6bd967a-e0d5-47a0-bd10-9fd67a1489c9\">\n",
              "    <div class=\"colab-df-container\">\n",
              "      <div>\n",
              "<style scoped>\n",
              "    .dataframe tbody tr th:only-of-type {\n",
              "        vertical-align: middle;\n",
              "    }\n",
              "\n",
              "    .dataframe tbody tr th {\n",
              "        vertical-align: top;\n",
              "    }\n",
              "\n",
              "    .dataframe thead th {\n",
              "        text-align: right;\n",
              "    }\n",
              "</style>\n",
              "<table border=\"1\" class=\"dataframe\">\n",
              "  <thead>\n",
              "    <tr style=\"text-align: right;\">\n",
              "      <th></th>\n",
              "      <th>sqmtrs</th>\n",
              "      <th>nrooms</th>\n",
              "      <th>price</th>\n",
              "      <th>view_east</th>\n",
              "      <th>view_north</th>\n",
              "      <th>view_south</th>\n",
              "      <th>view_west</th>\n",
              "      <th>crime_rate_high</th>\n",
              "      <th>crime_rate_low</th>\n",
              "    </tr>\n",
              "  </thead>\n",
              "  <tbody>\n",
              "    <tr>\n",
              "      <th>0</th>\n",
              "      <td>0.606426</td>\n",
              "      <td>1.00</td>\n",
              "      <td>0.791034</td>\n",
              "      <td>0.0</td>\n",
              "      <td>0.0</td>\n",
              "      <td>0.0</td>\n",
              "      <td>1.0</td>\n",
              "      <td>0.0</td>\n",
              "      <td>1.0</td>\n",
              "    </tr>\n",
              "    <tr>\n",
              "      <th>1</th>\n",
              "      <td>0.445783</td>\n",
              "      <td>0.50</td>\n",
              "      <td>0.369303</td>\n",
              "      <td>0.0</td>\n",
              "      <td>0.0</td>\n",
              "      <td>0.0</td>\n",
              "      <td>1.0</td>\n",
              "      <td>1.0</td>\n",
              "      <td>0.0</td>\n",
              "    </tr>\n",
              "    <tr>\n",
              "      <th>2</th>\n",
              "      <td>0.112450</td>\n",
              "      <td>1.00</td>\n",
              "      <td>0.470421</td>\n",
              "      <td>1.0</td>\n",
              "      <td>0.0</td>\n",
              "      <td>0.0</td>\n",
              "      <td>0.0</td>\n",
              "      <td>0.0</td>\n",
              "      <td>1.0</td>\n",
              "    </tr>\n",
              "    <tr>\n",
              "      <th>3</th>\n",
              "      <td>0.313253</td>\n",
              "      <td>0.50</td>\n",
              "      <td>0.289327</td>\n",
              "      <td>1.0</td>\n",
              "      <td>0.0</td>\n",
              "      <td>0.0</td>\n",
              "      <td>0.0</td>\n",
              "      <td>1.0</td>\n",
              "      <td>0.0</td>\n",
              "    </tr>\n",
              "    <tr>\n",
              "      <th>4</th>\n",
              "      <td>0.526104</td>\n",
              "      <td>0.50</td>\n",
              "      <td>0.631941</td>\n",
              "      <td>0.0</td>\n",
              "      <td>0.0</td>\n",
              "      <td>0.0</td>\n",
              "      <td>1.0</td>\n",
              "      <td>0.0</td>\n",
              "      <td>1.0</td>\n",
              "    </tr>\n",
              "    <tr>\n",
              "      <th>5</th>\n",
              "      <td>0.614458</td>\n",
              "      <td>1.00</td>\n",
              "      <td>0.569441</td>\n",
              "      <td>0.0</td>\n",
              "      <td>1.0</td>\n",
              "      <td>0.0</td>\n",
              "      <td>0.0</td>\n",
              "      <td>1.0</td>\n",
              "      <td>0.0</td>\n",
              "    </tr>\n",
              "    <tr>\n",
              "      <th>6</th>\n",
              "      <td>0.004016</td>\n",
              "      <td>0.00</td>\n",
              "      <td>0.217145</td>\n",
              "      <td>0.0</td>\n",
              "      <td>1.0</td>\n",
              "      <td>0.0</td>\n",
              "      <td>0.0</td>\n",
              "      <td>0.0</td>\n",
              "      <td>1.0</td>\n",
              "    </tr>\n",
              "    <tr>\n",
              "      <th>7</th>\n",
              "      <td>0.570281</td>\n",
              "      <td>0.00</td>\n",
              "      <td>0.389834</td>\n",
              "      <td>0.0</td>\n",
              "      <td>1.0</td>\n",
              "      <td>0.0</td>\n",
              "      <td>0.0</td>\n",
              "      <td>1.0</td>\n",
              "      <td>0.0</td>\n",
              "    </tr>\n",
              "    <tr>\n",
              "      <th>8</th>\n",
              "      <td>0.297189</td>\n",
              "      <td>1.00</td>\n",
              "      <td>0.391398</td>\n",
              "      <td>0.0</td>\n",
              "      <td>0.0</td>\n",
              "      <td>0.0</td>\n",
              "      <td>1.0</td>\n",
              "      <td>1.0</td>\n",
              "      <td>0.0</td>\n",
              "    </tr>\n",
              "    <tr>\n",
              "      <th>9</th>\n",
              "      <td>0.915663</td>\n",
              "      <td>0.25</td>\n",
              "      <td>0.599257</td>\n",
              "      <td>0.0</td>\n",
              "      <td>0.0</td>\n",
              "      <td>1.0</td>\n",
              "      <td>0.0</td>\n",
              "      <td>1.0</td>\n",
              "      <td>0.0</td>\n",
              "    </tr>\n",
              "  </tbody>\n",
              "</table>\n",
              "</div>\n",
              "      <button class=\"colab-df-convert\" onclick=\"convertToInteractive('df-d6bd967a-e0d5-47a0-bd10-9fd67a1489c9')\"\n",
              "              title=\"Convert this dataframe to an interactive table.\"\n",
              "              style=\"display:none;\">\n",
              "        \n",
              "  <svg xmlns=\"http://www.w3.org/2000/svg\" height=\"24px\"viewBox=\"0 0 24 24\"\n",
              "       width=\"24px\">\n",
              "    <path d=\"M0 0h24v24H0V0z\" fill=\"none\"/>\n",
              "    <path d=\"M18.56 5.44l.94 2.06.94-2.06 2.06-.94-2.06-.94-.94-2.06-.94 2.06-2.06.94zm-11 1L8.5 8.5l.94-2.06 2.06-.94-2.06-.94L8.5 2.5l-.94 2.06-2.06.94zm10 10l.94 2.06.94-2.06 2.06-.94-2.06-.94-.94-2.06-.94 2.06-2.06.94z\"/><path d=\"M17.41 7.96l-1.37-1.37c-.4-.4-.92-.59-1.43-.59-.52 0-1.04.2-1.43.59L10.3 9.45l-7.72 7.72c-.78.78-.78 2.05 0 2.83L4 21.41c.39.39.9.59 1.41.59.51 0 1.02-.2 1.41-.59l7.78-7.78 2.81-2.81c.8-.78.8-2.07 0-2.86zM5.41 20L4 18.59l7.72-7.72 1.47 1.35L5.41 20z\"/>\n",
              "  </svg>\n",
              "      </button>\n",
              "      \n",
              "  <style>\n",
              "    .colab-df-container {\n",
              "      display:flex;\n",
              "      flex-wrap:wrap;\n",
              "      gap: 12px;\n",
              "    }\n",
              "\n",
              "    .colab-df-convert {\n",
              "      background-color: #E8F0FE;\n",
              "      border: none;\n",
              "      border-radius: 50%;\n",
              "      cursor: pointer;\n",
              "      display: none;\n",
              "      fill: #1967D2;\n",
              "      height: 32px;\n",
              "      padding: 0 0 0 0;\n",
              "      width: 32px;\n",
              "    }\n",
              "\n",
              "    .colab-df-convert:hover {\n",
              "      background-color: #E2EBFA;\n",
              "      box-shadow: 0px 1px 2px rgba(60, 64, 67, 0.3), 0px 1px 3px 1px rgba(60, 64, 67, 0.15);\n",
              "      fill: #174EA6;\n",
              "    }\n",
              "\n",
              "    [theme=dark] .colab-df-convert {\n",
              "      background-color: #3B4455;\n",
              "      fill: #D2E3FC;\n",
              "    }\n",
              "\n",
              "    [theme=dark] .colab-df-convert:hover {\n",
              "      background-color: #434B5C;\n",
              "      box-shadow: 0px 1px 3px 1px rgba(0, 0, 0, 0.15);\n",
              "      filter: drop-shadow(0px 1px 2px rgba(0, 0, 0, 0.3));\n",
              "      fill: #FFFFFF;\n",
              "    }\n",
              "  </style>\n",
              "\n",
              "      <script>\n",
              "        const buttonEl =\n",
              "          document.querySelector('#df-d6bd967a-e0d5-47a0-bd10-9fd67a1489c9 button.colab-df-convert');\n",
              "        buttonEl.style.display =\n",
              "          google.colab.kernel.accessAllowed ? 'block' : 'none';\n",
              "\n",
              "        async function convertToInteractive(key) {\n",
              "          const element = document.querySelector('#df-d6bd967a-e0d5-47a0-bd10-9fd67a1489c9');\n",
              "          const dataTable =\n",
              "            await google.colab.kernel.invokeFunction('convertToInteractive',\n",
              "                                                     [key], {});\n",
              "          if (!dataTable) return;\n",
              "\n",
              "          const docLinkHtml = 'Like what you see? Visit the ' +\n",
              "            '<a target=\"_blank\" href=https://colab.research.google.com/notebooks/data_table.ipynb>data table notebook</a>'\n",
              "            + ' to learn more about interactive tables.';\n",
              "          element.innerHTML = '';\n",
              "          dataTable['output_type'] = 'display_data';\n",
              "          await google.colab.output.renderOutput(dataTable, element);\n",
              "          const docLink = document.createElement('div');\n",
              "          docLink.innerHTML = docLinkHtml;\n",
              "          element.appendChild(docLink);\n",
              "        }\n",
              "      </script>\n",
              "    </div>\n",
              "  </div>\n",
              "  "
            ]
          },
          "metadata": {},
          "execution_count": 54
        }
      ]
    },
    {
      "cell_type": "markdown",
      "metadata": {
        "id": "nnSUvg-OK9FP"
      },
      "source": [
        "Don't forget the split the training data to obtain a validation set. **Use random_state=42**"
      ],
      "id": "nnSUvg-OK9FP"
    },
    {
      "cell_type": "code",
      "metadata": {
        "id": "WufovdxNK8sI",
        "colab": {
          "base_uri": "https://localhost:8080/"
        },
        "outputId": "e5ebcfac-ec88-4e21-9044-434608ea8f33"
      },
      "source": [
        "\n",
        "from sklearn.model_selection import train_test_split\n",
        "# split 90-10\n",
        "\n",
        "x_overall = train_df.drop('price', axis =1)\n",
        "y_overall = train_df.drop(['sqmtrs', 'nrooms', 'view_east','view_north','view_south', 'view_west' ,'crime_rate_high', 'crime_rate_low'], axis=1)\n",
        "\n",
        "x_train, x_val, y_train, y_val = train_test_split(x_overall, y_overall, test_size=0.1, random_state=42)\n",
        "print(\"Shape train x: \", x_train.shape)\n",
        "print(\"Shape train y: \", y_train.shape)\n",
        "print(\"Shape validation x: \", x_val.shape)\n",
        "print(\"Shape validation y: \", y_val.shape)\n"
      ],
      "id": "WufovdxNK8sI",
      "execution_count": null,
      "outputs": [
        {
          "output_type": "stream",
          "name": "stdout",
          "text": [
            "Shape train x:  (4320, 8)\n",
            "Shape train y:  (4320, 1)\n",
            "Shape validation x:  (480, 8)\n",
            "Shape validation y:  (480, 1)\n"
          ]
        }
      ]
    },
    {
      "cell_type": "markdown",
      "metadata": {
        "id": "hU-_nQ4IFuR3"
      },
      "source": [
        "##5) Train neural networks on development data and do model selection using the validation data (55 pts)\n",
        "\n",
        "\n",
        "* Train a neural network with **one hidden layer** (try 3 different values for the number of neurons in that hidden layer, as 25, 50, 100), you will need to correctly choose the optimizer and the loss function that this model will train with. Use batch_size as 64 and train each model for 30 epochs. \n",
        "\n",
        "* Train another neural network with two hidden layers with meta-parameters of your choice. Again, use batch_size as 64 and train the model for 30 epochs. \n",
        "\n",
        "* **Bonus (5 pts)** Train a KNN or a Decision Tree model with your own choice of meta parameters to predict the house prices.\n"
      ],
      "id": "hU-_nQ4IFuR3"
    },
    {
      "cell_type": "code",
      "source": [
        "import keras\n",
        "import keras.utils\n",
        "from tensorflow.keras import utils as np_utils\n",
        "from tensorflow.keras.utils import to_categorical\n",
        "from keras.models import Sequential\n",
        "from keras.layers import Dense, Dropout, Activation, Flatten\n",
        "from tensorflow.keras.optimizers import SGD, Adam\n",
        "from sklearn.model_selection import train_test_split\n",
        "from keras.datasets import mnist\n",
        "from sklearn.utils import shuffle\n",
        "from keras.models import Sequential\n",
        "from keras.layers import Dense, Dropout, Activation, Flatten"
      ],
      "metadata": {
        "id": "IhKaUnxHpicX"
      },
      "id": "IhKaUnxHpicX",
      "execution_count": null,
      "outputs": []
    },
    {
      "cell_type": "code",
      "metadata": {
        "id": "bec4fb64",
        "colab": {
          "base_uri": "https://localhost:8080/"
        },
        "outputId": "37f0cb3f-70bf-4a7c-daa2-c7532a3a257a"
      },
      "source": [
        "#1\n",
        "# train one-hidden layered neural networks\n",
        "# define your model architecture\n",
        "\n",
        "model_1_1 = Sequential()\n",
        "model_1_1.add(Flatten())\n",
        "model_1_1.add(Dense(100, activation='relu', input_shape=(x_train.shape[1],)))\n",
        "#model_1_1.add(Dense(1, activation='softmax'))\n",
        "model_1_1.add(Dense(1))\n",
        "# compile your model with an optimizer\n",
        "model_1_1.compile(loss='binary_crossentropy', optimizer=Adam(), metrics=['mse'])\n",
        "\n",
        "# fit the model on training data\n",
        "model_1_1.fit(x=x_train, y = y_train, batch_size=64, epochs=30, validation_data= (x_val, y_val), verbose=1)"
      ],
      "id": "bec4fb64",
      "execution_count": null,
      "outputs": [
        {
          "output_type": "stream",
          "name": "stdout",
          "text": [
            "Epoch 1/30\n",
            "68/68 [==============================] - 1s 4ms/step - loss: 1.4098 - mse: 0.1022 - val_loss: 0.6964 - val_mse: 0.0481\n",
            "Epoch 2/30\n",
            "68/68 [==============================] - 0s 2ms/step - loss: 0.6623 - mse: 0.0285 - val_loss: 0.6287 - val_mse: 0.0179\n",
            "Epoch 3/30\n",
            "68/68 [==============================] - 0s 2ms/step - loss: 0.6209 - mse: 0.0099 - val_loss: 0.6022 - val_mse: 0.0064\n",
            "Epoch 4/30\n",
            "68/68 [==============================] - 0s 2ms/step - loss: 0.6065 - mse: 0.0037 - val_loss: 0.5930 - val_mse: 0.0027\n",
            "Epoch 5/30\n",
            "68/68 [==============================] - 0s 2ms/step - loss: 0.6024 - mse: 0.0019 - val_loss: 0.5904 - val_mse: 0.0016\n",
            "Epoch 6/30\n",
            "68/68 [==============================] - 0s 2ms/step - loss: 0.6007 - mse: 0.0013 - val_loss: 0.5893 - val_mse: 0.0012\n",
            "Epoch 7/30\n",
            "68/68 [==============================] - 0s 2ms/step - loss: 0.5999 - mse: 9.5882e-04 - val_loss: 0.5885 - val_mse: 9.1349e-04\n",
            "Epoch 8/30\n",
            "68/68 [==============================] - 0s 2ms/step - loss: 0.5992 - mse: 7.6253e-04 - val_loss: 0.5880 - val_mse: 7.2897e-04\n",
            "Epoch 9/30\n",
            "68/68 [==============================] - 0s 2ms/step - loss: 0.5988 - mse: 6.1080e-04 - val_loss: 0.5877 - val_mse: 6.1991e-04\n",
            "Epoch 10/30\n",
            "68/68 [==============================] - 0s 2ms/step - loss: 0.5985 - mse: 5.0800e-04 - val_loss: 0.5874 - val_mse: 5.3232e-04\n",
            "Epoch 11/30\n",
            "68/68 [==============================] - 0s 2ms/step - loss: 0.5983 - mse: 4.4234e-04 - val_loss: 0.5872 - val_mse: 4.5733e-04\n",
            "Epoch 12/30\n",
            "68/68 [==============================] - 0s 2ms/step - loss: 0.5981 - mse: 3.8693e-04 - val_loss: 0.5870 - val_mse: 4.0325e-04\n",
            "Epoch 13/30\n",
            "68/68 [==============================] - 0s 2ms/step - loss: 0.5980 - mse: 3.4202e-04 - val_loss: 0.5869 - val_mse: 3.7534e-04\n",
            "Epoch 14/30\n",
            "68/68 [==============================] - 0s 2ms/step - loss: 0.5979 - mse: 3.1182e-04 - val_loss: 0.5868 - val_mse: 3.2917e-04\n",
            "Epoch 15/30\n",
            "68/68 [==============================] - 0s 2ms/step - loss: 0.5978 - mse: 2.8066e-04 - val_loss: 0.5867 - val_mse: 3.0959e-04\n",
            "Epoch 16/30\n",
            "68/68 [==============================] - 0s 3ms/step - loss: 0.5978 - mse: 2.6385e-04 - val_loss: 0.5867 - val_mse: 2.7954e-04\n",
            "Epoch 17/30\n",
            "68/68 [==============================] - 0s 2ms/step - loss: 0.5977 - mse: 2.3788e-04 - val_loss: 0.5866 - val_mse: 2.5640e-04\n",
            "Epoch 18/30\n",
            "68/68 [==============================] - 0s 2ms/step - loss: 0.5977 - mse: 2.1990e-04 - val_loss: 0.5866 - val_mse: 2.3872e-04\n",
            "Epoch 19/30\n",
            "68/68 [==============================] - 0s 2ms/step - loss: 0.5976 - mse: 2.0498e-04 - val_loss: 0.5865 - val_mse: 2.2364e-04\n",
            "Epoch 20/30\n",
            "68/68 [==============================] - 0s 2ms/step - loss: 0.5976 - mse: 1.9163e-04 - val_loss: 0.5865 - val_mse: 2.2144e-04\n",
            "Epoch 21/30\n",
            "68/68 [==============================] - 0s 2ms/step - loss: 0.5976 - mse: 1.8420e-04 - val_loss: 0.5864 - val_mse: 2.0180e-04\n",
            "Epoch 22/30\n",
            "68/68 [==============================] - 0s 2ms/step - loss: 0.5975 - mse: 1.6901e-04 - val_loss: 0.5864 - val_mse: 1.8720e-04\n",
            "Epoch 23/30\n",
            "68/68 [==============================] - 0s 2ms/step - loss: 0.5975 - mse: 1.5707e-04 - val_loss: 0.5864 - val_mse: 1.7766e-04\n",
            "Epoch 24/30\n",
            "68/68 [==============================] - 0s 3ms/step - loss: 0.5975 - mse: 1.4994e-04 - val_loss: 0.5864 - val_mse: 1.6380e-04\n",
            "Epoch 25/30\n",
            "68/68 [==============================] - 0s 2ms/step - loss: 0.5974 - mse: 1.4707e-04 - val_loss: 0.5863 - val_mse: 1.5060e-04\n",
            "Epoch 26/30\n",
            "68/68 [==============================] - 0s 2ms/step - loss: 0.5974 - mse: 1.3865e-04 - val_loss: 0.5863 - val_mse: 1.5850e-04\n",
            "Epoch 27/30\n",
            "68/68 [==============================] - 0s 2ms/step - loss: 0.5974 - mse: 1.3405e-04 - val_loss: 0.5863 - val_mse: 1.3557e-04\n",
            "Epoch 28/30\n",
            "68/68 [==============================] - 0s 3ms/step - loss: 0.5974 - mse: 1.2573e-04 - val_loss: 0.5863 - val_mse: 1.3566e-04\n",
            "Epoch 29/30\n",
            "68/68 [==============================] - 0s 2ms/step - loss: 0.5974 - mse: 1.3509e-04 - val_loss: 0.5863 - val_mse: 1.3617e-04\n",
            "Epoch 30/30\n",
            "68/68 [==============================] - 0s 2ms/step - loss: 0.5974 - mse: 1.1570e-04 - val_loss: 0.5863 - val_mse: 1.2382e-04\n"
          ]
        },
        {
          "output_type": "execute_result",
          "data": {
            "text/plain": [
              "<keras.callbacks.History at 0x7ff76e396890>"
            ]
          },
          "metadata": {},
          "execution_count": 57
        }
      ]
    },
    {
      "cell_type": "code",
      "metadata": {
        "colab": {
          "base_uri": "https://localhost:8080/"
        },
        "id": "qddl8jDk2QL9",
        "outputId": "a1be0b30-8fc6-449a-f653-0fd22478b963"
      },
      "source": [
        "#2\n",
        "# train one-hidden layered neural networks\n",
        "# define your model architecture\n",
        "from keras.models import Sequential\n",
        "from keras.layers import Dense, Dropout, Activation, Flatten\n",
        "model_1_2 = Sequential()\n",
        "model_1_2.add(Flatten())\n",
        "model_1_2.add(Dense(50, activation='relu', input_shape=(x_train.shape[1],)))\n",
        "#model_1_2.add(Dense(1, activation='softmax'))\n",
        "model_1_2.add(Dense(1))\n",
        "# compile your model with an optimizer\n",
        "model_1_2.compile(loss='binary_crossentropy', optimizer=Adam(), metrics=['mse'])\n",
        "\n",
        "# fit the model on training data\n",
        "model_1_2.fit(x=x_train, y = y_train, batch_size=64, epochs=30, validation_data= (x_val, y_val), verbose=1)"
      ],
      "execution_count": null,
      "outputs": [
        {
          "output_type": "stream",
          "name": "stdout",
          "text": [
            "Epoch 1/30\n",
            "68/68 [==============================] - 1s 4ms/step - loss: 1.1198 - mse: 0.0944 - val_loss: 0.7460 - val_mse: 0.0663\n",
            "Epoch 2/30\n",
            "68/68 [==============================] - 0s 2ms/step - loss: 0.7155 - mse: 0.0506 - val_loss: 0.6774 - val_mse: 0.0410\n",
            "Epoch 3/30\n",
            "68/68 [==============================] - 0s 2ms/step - loss: 0.6493 - mse: 0.0236 - val_loss: 0.6218 - val_mse: 0.0154\n",
            "Epoch 4/30\n",
            "68/68 [==============================] - 0s 2ms/step - loss: 0.6159 - mse: 0.0080 - val_loss: 0.6010 - val_mse: 0.0058\n",
            "Epoch 5/30\n",
            "68/68 [==============================] - 0s 2ms/step - loss: 0.6060 - mse: 0.0034 - val_loss: 0.5941 - val_mse: 0.0026\n",
            "Epoch 6/30\n",
            "68/68 [==============================] - 0s 2ms/step - loss: 0.6018 - mse: 0.0018 - val_loss: 0.5902 - val_mse: 0.0014\n",
            "Epoch 7/30\n",
            "68/68 [==============================] - 0s 2ms/step - loss: 0.6003 - mse: 0.0012 - val_loss: 0.5894 - val_mse: 9.5489e-04\n",
            "Epoch 8/30\n",
            "68/68 [==============================] - 0s 2ms/step - loss: 0.5996 - mse: 8.8085e-04 - val_loss: 0.5889 - val_mse: 7.8898e-04\n",
            "Epoch 9/30\n",
            "68/68 [==============================] - 0s 3ms/step - loss: 0.5993 - mse: 7.4457e-04 - val_loss: 0.5877 - val_mse: 6.4758e-04\n",
            "Epoch 10/30\n",
            "68/68 [==============================] - 0s 2ms/step - loss: 0.5989 - mse: 6.8245e-04 - val_loss: 0.5874 - val_mse: 5.5954e-04\n",
            "Epoch 11/30\n",
            "68/68 [==============================] - 0s 2ms/step - loss: 0.5993 - mse: 8.4917e-04 - val_loss: 0.5913 - val_mse: 0.0021\n",
            "Epoch 12/30\n",
            "68/68 [==============================] - 0s 2ms/step - loss: 0.6000 - mse: 0.0011 - val_loss: 0.5875 - val_mse: 5.4315e-04\n",
            "Epoch 13/30\n",
            "68/68 [==============================] - 0s 2ms/step - loss: 0.5986 - mse: 5.5601e-04 - val_loss: 0.5872 - val_mse: 4.6027e-04\n",
            "Epoch 14/30\n",
            "68/68 [==============================] - 0s 2ms/step - loss: 0.5984 - mse: 4.6570e-04 - val_loss: 0.5870 - val_mse: 4.0825e-04\n",
            "Epoch 15/30\n",
            "68/68 [==============================] - 0s 2ms/step - loss: 0.5985 - mse: 5.2490e-04 - val_loss: 0.5869 - val_mse: 3.7568e-04\n",
            "Epoch 16/30\n",
            "68/68 [==============================] - 0s 2ms/step - loss: 0.5981 - mse: 4.0252e-04 - val_loss: 0.5869 - val_mse: 3.8213e-04\n",
            "Epoch 17/30\n",
            "68/68 [==============================] - 0s 2ms/step - loss: 0.5983 - mse: 4.5098e-04 - val_loss: 0.5876 - val_mse: 5.9910e-04\n",
            "Epoch 18/30\n",
            "68/68 [==============================] - 0s 2ms/step - loss: 0.5981 - mse: 3.9564e-04 - val_loss: 0.5868 - val_mse: 3.2628e-04\n",
            "Epoch 19/30\n",
            "68/68 [==============================] - 0s 2ms/step - loss: 0.5980 - mse: 3.3943e-04 - val_loss: 0.5867 - val_mse: 3.1137e-04\n",
            "Epoch 20/30\n",
            "68/68 [==============================] - 0s 2ms/step - loss: 0.5980 - mse: 3.2609e-04 - val_loss: 0.5867 - val_mse: 2.9684e-04\n",
            "Epoch 21/30\n",
            "68/68 [==============================] - 0s 2ms/step - loss: 0.5981 - mse: 3.7801e-04 - val_loss: 0.5867 - val_mse: 3.0954e-04\n",
            "Epoch 22/30\n",
            "68/68 [==============================] - 0s 2ms/step - loss: 0.5979 - mse: 3.0440e-04 - val_loss: 0.5867 - val_mse: 2.9416e-04\n",
            "Epoch 23/30\n",
            "68/68 [==============================] - 0s 2ms/step - loss: 0.5979 - mse: 3.0682e-04 - val_loss: 0.5867 - val_mse: 3.1207e-04\n",
            "Epoch 24/30\n",
            "68/68 [==============================] - 0s 2ms/step - loss: 0.5978 - mse: 2.9816e-04 - val_loss: 0.5867 - val_mse: 2.8906e-04\n",
            "Epoch 25/30\n",
            "68/68 [==============================] - 0s 2ms/step - loss: 0.5978 - mse: 2.7989e-04 - val_loss: 0.5866 - val_mse: 2.6014e-04\n",
            "Epoch 26/30\n",
            "68/68 [==============================] - 0s 2ms/step - loss: 0.5978 - mse: 2.7225e-04 - val_loss: 0.5866 - val_mse: 2.5640e-04\n",
            "Epoch 27/30\n",
            "68/68 [==============================] - 0s 2ms/step - loss: 0.5978 - mse: 2.6867e-04 - val_loss: 0.5866 - val_mse: 2.6076e-04\n",
            "Epoch 28/30\n",
            "68/68 [==============================] - 0s 2ms/step - loss: 0.5977 - mse: 2.5670e-04 - val_loss: 0.5865 - val_mse: 2.4237e-04\n",
            "Epoch 29/30\n",
            "68/68 [==============================] - 0s 2ms/step - loss: 0.5977 - mse: 2.4972e-04 - val_loss: 0.5866 - val_mse: 2.6116e-04\n",
            "Epoch 30/30\n",
            "68/68 [==============================] - 0s 2ms/step - loss: 0.5977 - mse: 2.4575e-04 - val_loss: 0.5865 - val_mse: 2.3478e-04\n"
          ]
        },
        {
          "output_type": "execute_result",
          "data": {
            "text/plain": [
              "<keras.callbacks.History at 0x7ff76e15fd10>"
            ]
          },
          "metadata": {},
          "execution_count": 58
        }
      ],
      "id": "qddl8jDk2QL9"
    },
    {
      "cell_type": "code",
      "metadata": {
        "colab": {
          "base_uri": "https://localhost:8080/"
        },
        "id": "v-106pRU2R8Z",
        "outputId": "b1a4ff20-53e7-4d5a-e9d6-2eb1ab560612"
      },
      "source": [
        "#3\n",
        "# train one-hidden layered neural networks\n",
        "# define your model architecture\n",
        "from keras.models import Sequential\n",
        "from keras.layers import Dense, Dropout, Activation, Flatten\n",
        "model_1_3 = Sequential()\n",
        "model_1_3.add(Flatten())\n",
        "model_1_3.add(Dense(25, activation='relu', input_shape=(x_train.shape[1],)))\n",
        "#model_1_3.add(Dense(1, activation='softmax'))\n",
        "model_1_3.add(Dense(1))\n",
        "# compile your model with an optimizer\n",
        "model_1_3.compile(loss='binary_crossentropy', optimizer=Adam(), metrics=['mse'])\n",
        "\n",
        "# fit the model on training data\n",
        "model_1_3.fit(x=x_train, y = y_train, batch_size=64, epochs=30, validation_data= (x_val, y_val), verbose=1)"
      ],
      "execution_count": null,
      "outputs": [
        {
          "output_type": "stream",
          "name": "stdout",
          "text": [
            "Epoch 1/30\n",
            "68/68 [==============================] - 1s 4ms/step - loss: 1.7228 - mse: 0.1288 - val_loss: 0.8165 - val_mse: 0.0434\n",
            "Epoch 2/30\n",
            "68/68 [==============================] - 0s 2ms/step - loss: 0.6851 - mse: 0.0300 - val_loss: 0.6309 - val_mse: 0.0188\n",
            "Epoch 3/30\n",
            "68/68 [==============================] - 0s 2ms/step - loss: 0.6313 - mse: 0.0144 - val_loss: 0.6105 - val_mse: 0.0098\n",
            "Epoch 4/30\n",
            "68/68 [==============================] - 0s 2ms/step - loss: 0.6174 - mse: 0.0082 - val_loss: 0.6013 - val_mse: 0.0059\n",
            "Epoch 5/30\n",
            "68/68 [==============================] - 0s 2ms/step - loss: 0.6103 - mse: 0.0051 - val_loss: 0.5961 - val_mse: 0.0038\n",
            "Epoch 6/30\n",
            "68/68 [==============================] - 0s 2ms/step - loss: 0.6061 - mse: 0.0034 - val_loss: 0.5928 - val_mse: 0.0026\n",
            "Epoch 7/30\n",
            "68/68 [==============================] - 0s 2ms/step - loss: 0.6036 - mse: 0.0024 - val_loss: 0.5913 - val_mse: 0.0018\n",
            "Epoch 8/30\n",
            "68/68 [==============================] - 0s 2ms/step - loss: 0.6023 - mse: 0.0019 - val_loss: 0.5900 - val_mse: 0.0015\n",
            "Epoch 9/30\n",
            "68/68 [==============================] - 0s 2ms/step - loss: 0.6013 - mse: 0.0015 - val_loss: 0.5895 - val_mse: 0.0012\n",
            "Epoch 10/30\n",
            "68/68 [==============================] - 0s 2ms/step - loss: 0.6007 - mse: 0.0013 - val_loss: 0.5889 - val_mse: 0.0010\n",
            "Epoch 11/30\n",
            "68/68 [==============================] - 0s 2ms/step - loss: 0.6004 - mse: 0.0012 - val_loss: 0.5887 - val_mse: 0.0010\n",
            "Epoch 12/30\n",
            "68/68 [==============================] - 0s 2ms/step - loss: 0.6000 - mse: 0.0010 - val_loss: 0.5882 - val_mse: 8.6414e-04\n",
            "Epoch 13/30\n",
            "68/68 [==============================] - 0s 2ms/step - loss: 0.5997 - mse: 9.4266e-04 - val_loss: 0.5881 - val_mse: 8.6778e-04\n",
            "Epoch 14/30\n",
            "68/68 [==============================] - 0s 2ms/step - loss: 0.5996 - mse: 8.9047e-04 - val_loss: 0.5879 - val_mse: 7.4150e-04\n",
            "Epoch 15/30\n",
            "68/68 [==============================] - 0s 3ms/step - loss: 0.5995 - mse: 8.4125e-04 - val_loss: 0.5878 - val_mse: 7.2668e-04\n",
            "Epoch 16/30\n",
            "68/68 [==============================] - 0s 2ms/step - loss: 0.5994 - mse: 8.1698e-04 - val_loss: 0.5877 - val_mse: 6.7858e-04\n",
            "Epoch 17/30\n",
            "68/68 [==============================] - 0s 2ms/step - loss: 0.5992 - mse: 7.9030e-04 - val_loss: 0.5878 - val_mse: 6.4038e-04\n",
            "Epoch 18/30\n",
            "68/68 [==============================] - 0s 2ms/step - loss: 0.5992 - mse: 7.4755e-04 - val_loss: 0.5878 - val_mse: 6.4958e-04\n",
            "Epoch 19/30\n",
            "68/68 [==============================] - 0s 2ms/step - loss: 0.5992 - mse: 7.8194e-04 - val_loss: 0.5877 - val_mse: 6.1758e-04\n",
            "Epoch 20/30\n",
            "68/68 [==============================] - 0s 2ms/step - loss: 0.5990 - mse: 7.3100e-04 - val_loss: 0.5877 - val_mse: 6.7178e-04\n",
            "Epoch 21/30\n",
            "68/68 [==============================] - 0s 2ms/step - loss: 0.5990 - mse: 7.0579e-04 - val_loss: 0.5874 - val_mse: 6.0193e-04\n",
            "Epoch 22/30\n",
            "68/68 [==============================] - 0s 2ms/step - loss: 0.5989 - mse: 6.7665e-04 - val_loss: 0.5874 - val_mse: 6.0468e-04\n",
            "Epoch 23/30\n",
            "68/68 [==============================] - 0s 2ms/step - loss: 0.5988 - mse: 6.5657e-04 - val_loss: 0.5874 - val_mse: 5.8143e-04\n",
            "Epoch 24/30\n",
            "68/68 [==============================] - 0s 2ms/step - loss: 0.5987 - mse: 6.3325e-04 - val_loss: 0.5873 - val_mse: 5.3120e-04\n",
            "Epoch 25/30\n",
            "68/68 [==============================] - 0s 2ms/step - loss: 0.5987 - mse: 6.3266e-04 - val_loss: 0.5873 - val_mse: 5.1563e-04\n",
            "Epoch 26/30\n",
            "68/68 [==============================] - 0s 2ms/step - loss: 0.5987 - mse: 6.0247e-04 - val_loss: 0.5872 - val_mse: 5.0757e-04\n",
            "Epoch 27/30\n",
            "68/68 [==============================] - 0s 2ms/step - loss: 0.5986 - mse: 5.8370e-04 - val_loss: 0.5872 - val_mse: 4.8998e-04\n",
            "Epoch 28/30\n",
            "68/68 [==============================] - 0s 2ms/step - loss: 0.5986 - mse: 5.7818e-04 - val_loss: 0.5872 - val_mse: 5.0447e-04\n",
            "Epoch 29/30\n",
            "68/68 [==============================] - 0s 2ms/step - loss: 0.5985 - mse: 5.5326e-04 - val_loss: 0.5871 - val_mse: 4.7424e-04\n",
            "Epoch 30/30\n",
            "68/68 [==============================] - 0s 2ms/step - loss: 0.5985 - mse: 5.3688e-04 - val_loss: 0.5871 - val_mse: 4.7654e-04\n"
          ]
        },
        {
          "output_type": "execute_result",
          "data": {
            "text/plain": [
              "<keras.callbacks.History at 0x7ff7ed472110>"
            ]
          },
          "metadata": {},
          "execution_count": 59
        }
      ],
      "id": "v-106pRU2R8Z"
    },
    {
      "cell_type": "markdown",
      "source": [
        "\n",
        "\n",
        "---\n",
        "\n"
      ],
      "metadata": {
        "id": "o5UgG7Uv3-EO"
      },
      "id": "o5UgG7Uv3-EO"
    },
    {
      "cell_type": "code",
      "metadata": {
        "id": "13b3d502",
        "colab": {
          "base_uri": "https://localhost:8080/"
        },
        "outputId": "c9c51487-3566-413c-b0ad-15f0e7372914"
      },
      "source": [
        "#1\n",
        "# train a two-hidden layered neural network\n",
        "# define your model architecture\n",
        "from keras.models import Sequential\n",
        "from keras.layers import Dense, Dropout, Activation, Flatten\n",
        "model_2_1 = Sequential()\n",
        "model_2_1.add(Flatten())\n",
        "model_2_1.add(Dense(600, activation='relu', input_shape=(x_train.shape[1],)))\n",
        "model_2_1.add(Dense(400, activation='relu'))\n",
        "#model_2_1.add(Dense(1, activation='softmax'))\n",
        "model_2_1.add(Dense(1))\n",
        "# compile your model with an optimizer\n",
        "model_2_1.compile(loss='binary_crossentropy', optimizer=Adam(), metrics=['mse'])\n",
        "\n",
        "# fit the model on training data\n",
        "model_2_1.fit(x=x_train, y = y_train, batch_size=64, epochs=30, validation_data= (x_val, y_val), verbose=1)\n"
      ],
      "id": "13b3d502",
      "execution_count": null,
      "outputs": [
        {
          "output_type": "stream",
          "name": "stdout",
          "text": [
            "Epoch 1/30\n",
            "68/68 [==============================] - 1s 9ms/step - loss: 0.7059 - mse: 0.0199 - val_loss: 0.5869 - val_mse: 3.7739e-04\n",
            "Epoch 2/30\n",
            "68/68 [==============================] - 1s 8ms/step - loss: 0.5977 - mse: 2.1717e-04 - val_loss: 0.5862 - val_mse: 1.2762e-04\n",
            "Epoch 3/30\n",
            "68/68 [==============================] - 0s 7ms/step - loss: 0.5973 - mse: 1.0573e-04 - val_loss: 0.5861 - val_mse: 8.4282e-05\n",
            "Epoch 4/30\n",
            "68/68 [==============================] - 1s 8ms/step - loss: 0.5973 - mse: 9.4535e-05 - val_loss: 0.5864 - val_mse: 1.5379e-04\n",
            "Epoch 5/30\n",
            "68/68 [==============================] - 1s 8ms/step - loss: 0.5974 - mse: 1.1263e-04 - val_loss: 0.5861 - val_mse: 8.0054e-05\n",
            "Epoch 6/30\n",
            "68/68 [==============================] - 1s 8ms/step - loss: 0.5972 - mse: 6.6082e-05 - val_loss: 0.5865 - val_mse: 1.3508e-04\n",
            "Epoch 7/30\n",
            "68/68 [==============================] - 0s 7ms/step - loss: 0.5973 - mse: 9.0801e-05 - val_loss: 0.5863 - val_mse: 1.3282e-04\n",
            "Epoch 8/30\n",
            "68/68 [==============================] - 0s 6ms/step - loss: 0.5973 - mse: 1.0265e-04 - val_loss: 0.5861 - val_mse: 5.9837e-05\n",
            "Epoch 9/30\n",
            "68/68 [==============================] - 0s 6ms/step - loss: 0.5973 - mse: 7.3042e-05 - val_loss: 0.5861 - val_mse: 8.1281e-05\n",
            "Epoch 10/30\n",
            "68/68 [==============================] - 1s 7ms/step - loss: 0.5973 - mse: 6.9240e-05 - val_loss: 0.5861 - val_mse: 7.6654e-05\n",
            "Epoch 11/30\n",
            "68/68 [==============================] - 0s 7ms/step - loss: 0.5973 - mse: 7.2100e-05 - val_loss: 0.5861 - val_mse: 6.6443e-05\n",
            "Epoch 12/30\n",
            "68/68 [==============================] - 0s 7ms/step - loss: 0.5973 - mse: 8.3026e-05 - val_loss: 0.5861 - val_mse: 5.9675e-05\n",
            "Epoch 13/30\n",
            "68/68 [==============================] - 0s 7ms/step - loss: 0.5975 - mse: 1.2876e-04 - val_loss: 0.5862 - val_mse: 1.0672e-04\n",
            "Epoch 14/30\n",
            "68/68 [==============================] - 1s 8ms/step - loss: 0.5973 - mse: 7.9624e-05 - val_loss: 0.5861 - val_mse: 7.7801e-05\n",
            "Epoch 15/30\n",
            "68/68 [==============================] - 1s 7ms/step - loss: 0.5975 - mse: 1.4356e-04 - val_loss: 0.5864 - val_mse: 1.5613e-04\n",
            "Epoch 16/30\n",
            "68/68 [==============================] - 1s 8ms/step - loss: 0.5973 - mse: 8.7430e-05 - val_loss: 0.5861 - val_mse: 6.3437e-05\n",
            "Epoch 17/30\n",
            "68/68 [==============================] - 1s 7ms/step - loss: 0.5973 - mse: 7.2908e-05 - val_loss: 0.5864 - val_mse: 8.0908e-05\n",
            "Epoch 18/30\n",
            "68/68 [==============================] - 0s 6ms/step - loss: 0.5973 - mse: 7.4178e-05 - val_loss: 0.5864 - val_mse: 1.3745e-04\n",
            "Epoch 19/30\n",
            "68/68 [==============================] - 0s 6ms/step - loss: 0.5978 - mse: 2.6235e-04 - val_loss: 0.5861 - val_mse: 7.4596e-05\n",
            "Epoch 20/30\n",
            "68/68 [==============================] - 1s 7ms/step - loss: 0.5973 - mse: 8.4979e-05 - val_loss: 0.5863 - val_mse: 1.4355e-04\n",
            "Epoch 21/30\n",
            "68/68 [==============================] - 0s 7ms/step - loss: 0.5973 - mse: 8.0357e-05 - val_loss: 0.5863 - val_mse: 7.2235e-05\n",
            "Epoch 22/30\n",
            "68/68 [==============================] - 0s 6ms/step - loss: 0.5972 - mse: 7.2573e-05 - val_loss: 0.5861 - val_mse: 6.0355e-05\n",
            "Epoch 23/30\n",
            "68/68 [==============================] - 0s 6ms/step - loss: 0.5974 - mse: 9.5098e-05 - val_loss: 0.5862 - val_mse: 1.0867e-04\n",
            "Epoch 24/30\n",
            "68/68 [==============================] - 0s 6ms/step - loss: 0.5973 - mse: 7.3813e-05 - val_loss: 0.5861 - val_mse: 6.3594e-05\n",
            "Epoch 25/30\n",
            "68/68 [==============================] - 0s 6ms/step - loss: 0.5975 - mse: 1.3203e-04 - val_loss: 0.5861 - val_mse: 8.9111e-05\n",
            "Epoch 26/30\n",
            "68/68 [==============================] - 0s 6ms/step - loss: 0.5979 - mse: 2.8637e-04 - val_loss: 0.5864 - val_mse: 1.6192e-04\n",
            "Epoch 27/30\n",
            "68/68 [==============================] - 0s 6ms/step - loss: 0.5977 - mse: 2.0717e-04 - val_loss: 0.5861 - val_mse: 7.6675e-05\n",
            "Epoch 28/30\n",
            "68/68 [==============================] - 0s 6ms/step - loss: 0.5973 - mse: 8.0010e-05 - val_loss: 0.5861 - val_mse: 5.8148e-05\n",
            "Epoch 29/30\n",
            "68/68 [==============================] - 0s 6ms/step - loss: 0.5972 - mse: 6.3551e-05 - val_loss: 0.5863 - val_mse: 7.1674e-05\n",
            "Epoch 30/30\n",
            "68/68 [==============================] - 0s 6ms/step - loss: 0.5973 - mse: 7.1209e-05 - val_loss: 0.5861 - val_mse: 6.3114e-05\n"
          ]
        },
        {
          "output_type": "execute_result",
          "data": {
            "text/plain": [
              "<keras.callbacks.History at 0x7ff76e0a51d0>"
            ]
          },
          "metadata": {},
          "execution_count": 60
        }
      ]
    },
    {
      "cell_type": "code",
      "metadata": {
        "colab": {
          "base_uri": "https://localhost:8080/"
        },
        "id": "ArHwktV223yn",
        "outputId": "1ef6092a-2069-4b44-aeb8-fc86df11d4f3"
      },
      "source": [
        "#2\n",
        "# train a two-hidden layered neural network\n",
        "# define your model architecture\n",
        "from keras.models import Sequential\n",
        "from keras.layers import Dense, Dropout, Activation, Flatten\n",
        "model_2_2 = Sequential()\n",
        "model_2_2.add(Flatten())\n",
        "model_2_2.add(Dense(400, activation='relu', input_shape=(x_train.shape[1],)))\n",
        "model_2_2.add(Dense(200, activation='relu'))\n",
        "#model_2_2.add(Dense(1, activation='softmax'))\n",
        "model_2_2.add(Dense(1))\n",
        "# compile your model with an optimizer\n",
        "model_2_2.compile(loss='binary_crossentropy', optimizer=Adam(), metrics=['mse'])\n",
        "\n",
        "# fit the model on training data\n",
        "model_2_2.fit(x=x_train, y = y_train, batch_size=64, epochs=30, validation_data= (x_val, y_val), verbose=1)\n"
      ],
      "execution_count": null,
      "outputs": [
        {
          "output_type": "stream",
          "name": "stdout",
          "text": [
            "Epoch 1/30\n",
            "68/68 [==============================] - 1s 7ms/step - loss: 0.7672 - mse: 0.0337 - val_loss: 0.5892 - val_mse: 0.0012\n",
            "Epoch 2/30\n",
            "68/68 [==============================] - 0s 4ms/step - loss: 0.6116 - mse: 0.0056 - val_loss: 0.5895 - val_mse: 0.0013\n",
            "Epoch 3/30\n",
            "68/68 [==============================] - 0s 4ms/step - loss: 0.5983 - mse: 4.3522e-04 - val_loss: 0.5865 - val_mse: 1.9775e-04\n",
            "Epoch 4/30\n",
            "68/68 [==============================] - 0s 4ms/step - loss: 0.5977 - mse: 2.2165e-04 - val_loss: 0.5863 - val_mse: 1.2477e-04\n",
            "Epoch 5/30\n",
            "68/68 [==============================] - 0s 5ms/step - loss: 0.5973 - mse: 1.0577e-04 - val_loss: 0.5861 - val_mse: 8.3359e-05\n",
            "Epoch 6/30\n",
            "68/68 [==============================] - 0s 4ms/step - loss: 0.5973 - mse: 7.5797e-05 - val_loss: 0.5861 - val_mse: 6.5487e-05\n",
            "Epoch 7/30\n",
            "68/68 [==============================] - 0s 5ms/step - loss: 0.5972 - mse: 6.7601e-05 - val_loss: 0.5861 - val_mse: 6.0291e-05\n",
            "Epoch 8/30\n",
            "68/68 [==============================] - 0s 5ms/step - loss: 0.5972 - mse: 6.3416e-05 - val_loss: 0.5861 - val_mse: 6.9071e-05\n",
            "Epoch 9/30\n",
            "68/68 [==============================] - 0s 4ms/step - loss: 0.5972 - mse: 6.3547e-05 - val_loss: 0.5861 - val_mse: 5.7700e-05\n",
            "Epoch 10/30\n",
            "68/68 [==============================] - 0s 4ms/step - loss: 0.5972 - mse: 5.9268e-05 - val_loss: 0.5861 - val_mse: 7.0867e-05\n",
            "Epoch 11/30\n",
            "68/68 [==============================] - 0s 5ms/step - loss: 0.5972 - mse: 6.5820e-05 - val_loss: 0.5862 - val_mse: 9.7434e-05\n",
            "Epoch 12/30\n",
            "68/68 [==============================] - 0s 5ms/step - loss: 0.5973 - mse: 7.3075e-05 - val_loss: 0.5861 - val_mse: 6.6182e-05\n",
            "Epoch 13/30\n",
            "68/68 [==============================] - 0s 5ms/step - loss: 0.5972 - mse: 5.9594e-05 - val_loss: 0.5861 - val_mse: 5.4190e-05\n",
            "Epoch 14/30\n",
            "68/68 [==============================] - 0s 5ms/step - loss: 0.5972 - mse: 5.9211e-05 - val_loss: 0.5861 - val_mse: 6.2490e-05\n",
            "Epoch 15/30\n",
            "68/68 [==============================] - 0s 4ms/step - loss: 0.5972 - mse: 5.6820e-05 - val_loss: 0.5860 - val_mse: 5.6641e-05\n",
            "Epoch 16/30\n",
            "68/68 [==============================] - 0s 4ms/step - loss: 0.5972 - mse: 5.6282e-05 - val_loss: 0.5863 - val_mse: 6.7613e-05\n",
            "Epoch 17/30\n",
            "68/68 [==============================] - 0s 5ms/step - loss: 0.5973 - mse: 9.3430e-05 - val_loss: 0.5861 - val_mse: 7.2692e-05\n",
            "Epoch 18/30\n",
            "68/68 [==============================] - 0s 5ms/step - loss: 0.5972 - mse: 6.9218e-05 - val_loss: 0.5863 - val_mse: 6.7923e-05\n",
            "Epoch 19/30\n",
            "68/68 [==============================] - 0s 5ms/step - loss: 0.5973 - mse: 9.4903e-05 - val_loss: 0.5861 - val_mse: 5.9154e-05\n",
            "Epoch 20/30\n",
            "68/68 [==============================] - 0s 5ms/step - loss: 0.5972 - mse: 5.9085e-05 - val_loss: 0.5864 - val_mse: 7.9248e-05\n",
            "Epoch 21/30\n",
            "68/68 [==============================] - 0s 5ms/step - loss: 0.5972 - mse: 5.9587e-05 - val_loss: 0.5861 - val_mse: 6.5181e-05\n",
            "Epoch 22/30\n",
            "68/68 [==============================] - 0s 4ms/step - loss: 0.5972 - mse: 6.3847e-05 - val_loss: 0.5861 - val_mse: 7.6562e-05\n",
            "Epoch 23/30\n",
            "68/68 [==============================] - 0s 4ms/step - loss: 0.5973 - mse: 6.2580e-05 - val_loss: 0.5861 - val_mse: 6.0074e-05\n",
            "Epoch 24/30\n",
            "68/68 [==============================] - 0s 4ms/step - loss: 0.5972 - mse: 6.6160e-05 - val_loss: 0.5863 - val_mse: 1.1975e-04\n",
            "Epoch 25/30\n",
            "68/68 [==============================] - 0s 4ms/step - loss: 0.5973 - mse: 6.4072e-05 - val_loss: 0.5861 - val_mse: 5.7540e-05\n",
            "Epoch 26/30\n",
            "68/68 [==============================] - 0s 5ms/step - loss: 0.5987 - mse: 5.8057e-04 - val_loss: 0.5869 - val_mse: 2.8631e-04\n",
            "Epoch 27/30\n",
            "68/68 [==============================] - 0s 5ms/step - loss: 0.5974 - mse: 1.2115e-04 - val_loss: 0.5861 - val_mse: 6.3785e-05\n",
            "Epoch 28/30\n",
            "68/68 [==============================] - 0s 5ms/step - loss: 0.5972 - mse: 6.8810e-05 - val_loss: 0.5861 - val_mse: 6.0908e-05\n",
            "Epoch 29/30\n",
            "68/68 [==============================] - 0s 4ms/step - loss: 0.5972 - mse: 6.5781e-05 - val_loss: 0.5861 - val_mse: 5.7717e-05\n",
            "Epoch 30/30\n",
            "68/68 [==============================] - 0s 4ms/step - loss: 0.5980 - mse: 3.2125e-04 - val_loss: 0.5871 - val_mse: 3.0896e-04\n"
          ]
        },
        {
          "output_type": "execute_result",
          "data": {
            "text/plain": [
              "<keras.callbacks.History at 0x7ff75cf3fb90>"
            ]
          },
          "metadata": {},
          "execution_count": 61
        }
      ],
      "id": "ArHwktV223yn"
    },
    {
      "cell_type": "code",
      "metadata": {
        "colab": {
          "base_uri": "https://localhost:8080/"
        },
        "id": "EM-7cRbu2zha",
        "outputId": "2b4298da-cdbc-4c2b-ed50-4abd78345e1e"
      },
      "source": [
        "\n",
        "# train a two-hidden layered neural network\n",
        "# define your model architecture\n",
        "from keras.models import Sequential\n",
        "from keras.layers import Dense, Dropout, Activation, Flatten\n",
        "model_2_3 = Sequential()\n",
        "model_2_3.add(Flatten())\n",
        "model_2_3.add(Dense(600, activation='relu', input_shape=(x_train.shape[1],)))\n",
        "model_2_3.add(Dense(300, activation='relu'))\n",
        "#model_2_3.add(Dense(1, activation='softmax'))\n",
        "model_2_3.add(Dense(1))\n",
        "# compile your model with an optimizer\n",
        "model_2_3.compile(loss='binary_crossentropy', optimizer=Adam(), metrics=['mse'])\n",
        "\n",
        "# fit the model on training data\n",
        "model_2_3.fit(x=x_train, y = y_train, batch_size=64, epochs=30, validation_data= (x_val, y_val), verbose=1)\n"
      ],
      "execution_count": null,
      "outputs": [
        {
          "output_type": "stream",
          "name": "stdout",
          "text": [
            "Epoch 1/30\n",
            "68/68 [==============================] - 4s 28ms/step - loss: 0.7383 - mse: 0.0299 - val_loss: 0.5878 - val_mse: 6.5132e-04\n",
            "Epoch 2/30\n",
            "68/68 [==============================] - 1s 14ms/step - loss: 0.5980 - mse: 3.6216e-04 - val_loss: 0.5864 - val_mse: 1.8142e-04\n",
            "Epoch 3/30\n",
            "68/68 [==============================] - 1s 12ms/step - loss: 0.5975 - mse: 1.6235e-04 - val_loss: 0.5862 - val_mse: 1.1752e-04\n",
            "Epoch 4/30\n",
            "68/68 [==============================] - 1s 13ms/step - loss: 0.5974 - mse: 1.2043e-04 - val_loss: 0.5862 - val_mse: 1.1715e-04\n",
            "Epoch 5/30\n",
            "68/68 [==============================] - 1s 15ms/step - loss: 0.5974 - mse: 1.0626e-04 - val_loss: 0.5862 - val_mse: 9.1269e-05\n",
            "Epoch 6/30\n",
            "68/68 [==============================] - 1s 9ms/step - loss: 0.5973 - mse: 8.7347e-05 - val_loss: 0.5862 - val_mse: 1.0914e-04\n",
            "Epoch 7/30\n",
            "68/68 [==============================] - 1s 11ms/step - loss: 0.5978 - mse: 2.1822e-04 - val_loss: 0.5863 - val_mse: 1.2542e-04\n",
            "Epoch 8/30\n",
            "68/68 [==============================] - 1s 10ms/step - loss: 0.5974 - mse: 8.3512e-05 - val_loss: 0.5861 - val_mse: 8.1335e-05\n",
            "Epoch 9/30\n",
            "68/68 [==============================] - 1s 11ms/step - loss: 0.5973 - mse: 9.1458e-05 - val_loss: 0.5861 - val_mse: 8.2774e-05\n",
            "Epoch 10/30\n",
            "68/68 [==============================] - 1s 12ms/step - loss: 0.5975 - mse: 1.2909e-04 - val_loss: 0.5861 - val_mse: 7.6152e-05\n",
            "Epoch 11/30\n",
            "68/68 [==============================] - 1s 10ms/step - loss: 0.5972 - mse: 7.4608e-05 - val_loss: 0.5862 - val_mse: 1.1121e-04\n",
            "Epoch 12/30\n",
            "68/68 [==============================] - 1s 10ms/step - loss: 0.5973 - mse: 7.4830e-05 - val_loss: 0.5861 - val_mse: 6.1365e-05\n",
            "Epoch 13/30\n",
            "68/68 [==============================] - 1s 12ms/step - loss: 0.5981 - mse: 3.7035e-04 - val_loss: 0.5863 - val_mse: 1.4048e-04\n",
            "Epoch 14/30\n",
            "68/68 [==============================] - 1s 13ms/step - loss: 0.5974 - mse: 9.9112e-05 - val_loss: 0.5861 - val_mse: 7.4498e-05\n",
            "Epoch 15/30\n",
            "68/68 [==============================] - 1s 13ms/step - loss: 0.5974 - mse: 1.0507e-04 - val_loss: 0.5866 - val_mse: 2.4791e-04\n",
            "Epoch 16/30\n",
            "68/68 [==============================] - 1s 13ms/step - loss: 0.5973 - mse: 1.0197e-04 - val_loss: 0.5862 - val_mse: 8.9411e-05\n",
            "Epoch 17/30\n",
            "68/68 [==============================] - 1s 12ms/step - loss: 0.5979 - mse: 2.4304e-04 - val_loss: 0.5863 - val_mse: 1.4677e-04\n",
            "Epoch 18/30\n",
            "68/68 [==============================] - 1s 13ms/step - loss: 0.5980 - mse: 3.5500e-04 - val_loss: 0.5909 - val_mse: 0.0019\n",
            "Epoch 19/30\n",
            "68/68 [==============================] - 1s 13ms/step - loss: 0.5986 - mse: 4.6860e-04 - val_loss: 0.5862 - val_mse: 8.3263e-05\n",
            "Epoch 20/30\n",
            "68/68 [==============================] - 1s 12ms/step - loss: 0.5974 - mse: 1.1862e-04 - val_loss: 0.5869 - val_mse: 3.5501e-04\n",
            "Epoch 21/30\n",
            "68/68 [==============================] - 1s 12ms/step - loss: 0.5973 - mse: 1.0263e-04 - val_loss: 0.5861 - val_mse: 6.2159e-05\n",
            "Epoch 22/30\n",
            "68/68 [==============================] - 1s 13ms/step - loss: 0.5972 - mse: 6.3113e-05 - val_loss: 0.5861 - val_mse: 5.8557e-05\n",
            "Epoch 23/30\n",
            "68/68 [==============================] - 1s 12ms/step - loss: 0.5975 - mse: 1.4798e-04 - val_loss: 0.5875 - val_mse: 5.3930e-04\n",
            "Epoch 24/30\n",
            "68/68 [==============================] - 1s 11ms/step - loss: 0.5977 - mse: 1.9056e-04 - val_loss: 0.5861 - val_mse: 7.2935e-05\n",
            "Epoch 25/30\n",
            "68/68 [==============================] - 1s 13ms/step - loss: 0.5973 - mse: 8.9991e-05 - val_loss: 0.5861 - val_mse: 6.1156e-05\n",
            "Epoch 26/30\n",
            "68/68 [==============================] - 1s 10ms/step - loss: 0.5972 - mse: 6.1934e-05 - val_loss: 0.5861 - val_mse: 8.6056e-05\n",
            "Epoch 27/30\n",
            "68/68 [==============================] - 1s 10ms/step - loss: 0.5980 - mse: 2.6958e-04 - val_loss: 0.5861 - val_mse: 8.8768e-05\n",
            "Epoch 28/30\n",
            "68/68 [==============================] - 1s 14ms/step - loss: 0.5972 - mse: 7.3254e-05 - val_loss: 0.5861 - val_mse: 5.8858e-05\n",
            "Epoch 29/30\n",
            "68/68 [==============================] - 1s 14ms/step - loss: 0.5976 - mse: 1.8234e-04 - val_loss: 0.5863 - val_mse: 9.3644e-05\n",
            "Epoch 30/30\n",
            "68/68 [==============================] - 1s 15ms/step - loss: 0.5975 - mse: 1.2455e-04 - val_loss: 0.5864 - val_mse: 8.1990e-05\n"
          ]
        },
        {
          "output_type": "execute_result",
          "data": {
            "text/plain": [
              "<keras.callbacks.History at 0x7ff75ce27890>"
            ]
          },
          "metadata": {},
          "execution_count": 70
        }
      ],
      "id": "EM-7cRbu2zha"
    },
    {
      "cell_type": "markdown",
      "metadata": {
        "id": "4rPGNFqdINTP"
      },
      "source": [
        "## 6) Test your trained classifiers on the Validation set (10 pts)\n",
        "Test your trained classifiers on the validation set and print the mean squared errors.\n"
      ],
      "id": "4rPGNFqdINTP"
    },
    {
      "cell_type": "code",
      "metadata": {
        "id": "9noUcsDJH1Hz",
        "colab": {
          "base_uri": "https://localhost:8080/"
        },
        "outputId": "9c1e87e1-eeec-4412-820a-cae373a16e09"
      },
      "source": [
        "from sklearn.metrics import mean_squared_error \n",
        "\n",
        "# tests on validation\n",
        "\n",
        "pred_1_1 = model_1_1.predict(x_val)\n",
        "mse_1_1 = mean_squared_error(y_val, pred_1_1)\n",
        "print(mse_1_1)\n",
        "\n",
        "pred_1_2 = model_1_2.predict(x_val)\n",
        "mse_1_2 = mean_squared_error(y_val, pred_1_2)\n",
        "print(mse_1_2)\n",
        "\n",
        "pred_1_3 = model_1_3.predict(x_val)\n",
        "mse_1_3 = mean_squared_error(y_val, pred_1_3)\n",
        "print(mse_1_3)\n",
        "\n",
        "\n",
        "pred_2_1 = model_2_1.predict(x_val)\n",
        "mse_2_1 = mean_squared_error(y_val, pred_2_1)\n",
        "print(mse_2_1)\n",
        "\n",
        "pred_2_2 = model_2_2.predict(x_val)\n",
        "mse_2_2 = mean_squared_error(y_val, pred_2_2)\n",
        "print(mse_2_2)\n",
        "\n",
        "pred_2_3 = model_2_3.predict(x_val)\n",
        "mse_2_3 = mean_squared_error(y_val, pred_2_3)\n",
        "print(mse_2_3)\n"
      ],
      "id": "9noUcsDJH1Hz",
      "execution_count": null,
      "outputs": [
        {
          "output_type": "stream",
          "name": "stdout",
          "text": [
            "0.00012381548797576648\n",
            "0.00023477675154618603\n",
            "0.0004765364946059473\n",
            "6.311451177654423e-05\n",
            "0.00030895536760973077\n",
            "6.108557495704171e-05\n"
          ]
        }
      ]
    },
    {
      "cell_type": "markdown",
      "metadata": {
        "id": "mojk_4Q9JQkR"
      },
      "source": [
        "## 7) Test your classifier on Test set (10 pts)\n",
        "\n",
        "- Load test data\n",
        "- Apply same pre-processing as training data (encoding categorical variables, scaling)\n",
        "- Predict the labels of testing data **using the best model that you have selected according to your validation results** and report the mean squared error. "
      ],
      "id": "mojk_4Q9JQkR"
    },
    {
      "cell_type": "code",
      "metadata": {
        "id": "5f3558e8",
        "colab": {
          "base_uri": "https://localhost:8080/"
        },
        "outputId": "83e3d757-f4c2-4827-da02-9ec4ddeee597"
      },
      "source": [
        "test_df = pd.read_csv(\"test.csv\")\n",
        "# show first 10 elements of the training data\n",
        "print(\"Fist 10 element of the testing data\")\n",
        "print(test_df.head(10))\n",
        "\n"
      ],
      "id": "5f3558e8",
      "execution_count": null,
      "outputs": [
        {
          "output_type": "stream",
          "name": "stdout",
          "text": [
            "Fist 10 element of the testing data\n",
            "   sqmtrs  nrooms   view crime_rate         price\n",
            "0     349       3  south       high  8.365535e+05\n",
            "1     169       1   west       high  5.127416e+05\n",
            "2     233       3  south       high  6.638806e+05\n",
            "3     340       4  north        low  1.000086e+06\n",
            "4     199       2   east        low  7.450151e+05\n",
            "5     332       1   east       high  7.740171e+05\n",
            "6     294       3   west        low  9.132634e+05\n",
            "7     111       3   east        low  5.861116e+05\n",
            "8     310       5  north        low  1.012929e+06\n",
            "9     307       4   west        low  9.715327e+05\n"
          ]
        }
      ]
    },
    {
      "cell_type": "code",
      "source": [
        "print(\"Data dimensionality is: \")\n",
        "print(test_df.shape)\n",
        "print('Data Summary: ')\n",
        "print(test_df.info())\n",
        "\n",
        "print(test_df[['sqmtrs', 'nrooms', 'price']].describe())"
      ],
      "metadata": {
        "colab": {
          "base_uri": "https://localhost:8080/"
        },
        "id": "LeWzmLaJCxMM",
        "outputId": "4393ed7e-53d8-4783-ec4e-9714003abfee"
      },
      "id": "LeWzmLaJCxMM",
      "execution_count": null,
      "outputs": [
        {
          "output_type": "stream",
          "name": "stdout",
          "text": [
            "Data dimensionality is: \n",
            "(1200, 5)\n",
            "Data Summary: \n",
            "<class 'pandas.core.frame.DataFrame'>\n",
            "RangeIndex: 1200 entries, 0 to 1199\n",
            "Data columns (total 5 columns):\n",
            " #   Column      Non-Null Count  Dtype  \n",
            "---  ------      --------------  -----  \n",
            " 0   sqmtrs      1200 non-null   int64  \n",
            " 1   nrooms      1200 non-null   int64  \n",
            " 2   view        1200 non-null   object \n",
            " 3   crime_rate  1200 non-null   object \n",
            " 4   price       1200 non-null   float64\n",
            "dtypes: float64(1), int64(2), object(2)\n",
            "memory usage: 47.0+ KB\n",
            "None\n",
            "           sqmtrs       nrooms         price\n",
            "count  1200.00000  1200.000000  1.200000e+03\n",
            "mean    221.74750     2.953333  7.187189e+05\n",
            "std      72.21276     1.421093  1.487926e+05\n",
            "min     100.00000     1.000000  3.520350e+05\n",
            "25%     157.00000     2.000000  6.096484e+05\n",
            "50%     221.00000     3.000000  7.199155e+05\n",
            "75%     283.00000     4.000000  8.351417e+05\n",
            "max     349.00000     5.000000  1.053787e+06\n"
          ]
        }
      ]
    },
    {
      "cell_type": "code",
      "source": [
        "# encode the categorical variables\n",
        "test_df = pd.get_dummies(test_df)\n",
        "\n",
        "print(test_df.head())\n",
        "print(test_df.info())\n",
        "\n",
        "\n"
      ],
      "metadata": {
        "colab": {
          "base_uri": "https://localhost:8080/"
        },
        "id": "4NkSLmuuDGYK",
        "outputId": "ad5dfc99-55ed-4866-8921-f66f960aca27"
      },
      "id": "4NkSLmuuDGYK",
      "execution_count": null,
      "outputs": [
        {
          "output_type": "stream",
          "name": "stdout",
          "text": [
            "   sqmtrs  nrooms         price  view_east  view_north  view_south  view_west  \\\n",
            "0     349       3  8.365535e+05          0           0           1          0   \n",
            "1     169       1  5.127416e+05          0           0           0          1   \n",
            "2     233       3  6.638806e+05          0           0           1          0   \n",
            "3     340       4  1.000086e+06          0           1           0          0   \n",
            "4     199       2  7.450151e+05          1           0           0          0   \n",
            "\n",
            "   crime_rate_high  crime_rate_low  \n",
            "0                1               0  \n",
            "1                1               0  \n",
            "2                1               0  \n",
            "3                0               1  \n",
            "4                0               1  \n",
            "<class 'pandas.core.frame.DataFrame'>\n",
            "RangeIndex: 1200 entries, 0 to 1199\n",
            "Data columns (total 9 columns):\n",
            " #   Column           Non-Null Count  Dtype  \n",
            "---  ------           --------------  -----  \n",
            " 0   sqmtrs           1200 non-null   int64  \n",
            " 1   nrooms           1200 non-null   int64  \n",
            " 2   price            1200 non-null   float64\n",
            " 3   view_east        1200 non-null   uint8  \n",
            " 4   view_north       1200 non-null   uint8  \n",
            " 5   view_south       1200 non-null   uint8  \n",
            " 6   view_west        1200 non-null   uint8  \n",
            " 7   crime_rate_high  1200 non-null   uint8  \n",
            " 8   crime_rate_low   1200 non-null   uint8  \n",
            "dtypes: float64(1), int64(2), uint8(6)\n",
            "memory usage: 35.3 KB\n",
            "None\n"
          ]
        }
      ]
    },
    {
      "cell_type": "code",
      "source": [
        "# scale the features between 0-1\n",
        "from sklearn.preprocessing import MinMaxScaler\n",
        "msc2 = MinMaxScaler()\n",
        "scaled2 = msc2.fit_transform(test_df)\n",
        "\n",
        "test_df = pd.DataFrame(scaled2, columns=test_df.columns, index=test_df.index)\n",
        "test_df.head(10)"
      ],
      "metadata": {
        "colab": {
          "base_uri": "https://localhost:8080/",
          "height": 363
        },
        "id": "KQ-ksktl3cYu",
        "outputId": "af8878f7-346e-4e02-923b-40d421779680"
      },
      "id": "KQ-ksktl3cYu",
      "execution_count": null,
      "outputs": [
        {
          "output_type": "execute_result",
          "data": {
            "text/plain": [
              "     sqmtrs  nrooms     price  view_east  view_north  view_south  view_west  \\\n",
              "0  1.000000    0.50  0.690441        0.0         0.0         1.0        0.0   \n",
              "1  0.277108    0.00  0.229008        0.0         0.0         0.0        1.0   \n",
              "2  0.534137    0.50  0.444381        0.0         0.0         1.0        0.0   \n",
              "3  0.963855    0.75  0.923476        0.0         1.0         0.0        0.0   \n",
              "4  0.397590    0.25  0.559998        1.0         0.0         0.0        0.0   \n",
              "5  0.931727    0.00  0.601326        1.0         0.0         0.0        0.0   \n",
              "6  0.779116    0.50  0.799753        0.0         0.0         0.0        1.0   \n",
              "7  0.044177    0.50  0.333560        1.0         0.0         0.0        0.0   \n",
              "8  0.843373    1.00  0.941777        0.0         1.0         0.0        0.0   \n",
              "9  0.831325    0.75  0.882787        0.0         0.0         0.0        1.0   \n",
              "\n",
              "   crime_rate_high  crime_rate_low  \n",
              "0              1.0             0.0  \n",
              "1              1.0             0.0  \n",
              "2              1.0             0.0  \n",
              "3              0.0             1.0  \n",
              "4              0.0             1.0  \n",
              "5              1.0             0.0  \n",
              "6              0.0             1.0  \n",
              "7              0.0             1.0  \n",
              "8              0.0             1.0  \n",
              "9              0.0             1.0  "
            ],
            "text/html": [
              "\n",
              "  <div id=\"df-3dff2644-c02c-4b4d-8874-62f049530b3f\">\n",
              "    <div class=\"colab-df-container\">\n",
              "      <div>\n",
              "<style scoped>\n",
              "    .dataframe tbody tr th:only-of-type {\n",
              "        vertical-align: middle;\n",
              "    }\n",
              "\n",
              "    .dataframe tbody tr th {\n",
              "        vertical-align: top;\n",
              "    }\n",
              "\n",
              "    .dataframe thead th {\n",
              "        text-align: right;\n",
              "    }\n",
              "</style>\n",
              "<table border=\"1\" class=\"dataframe\">\n",
              "  <thead>\n",
              "    <tr style=\"text-align: right;\">\n",
              "      <th></th>\n",
              "      <th>sqmtrs</th>\n",
              "      <th>nrooms</th>\n",
              "      <th>price</th>\n",
              "      <th>view_east</th>\n",
              "      <th>view_north</th>\n",
              "      <th>view_south</th>\n",
              "      <th>view_west</th>\n",
              "      <th>crime_rate_high</th>\n",
              "      <th>crime_rate_low</th>\n",
              "    </tr>\n",
              "  </thead>\n",
              "  <tbody>\n",
              "    <tr>\n",
              "      <th>0</th>\n",
              "      <td>1.000000</td>\n",
              "      <td>0.50</td>\n",
              "      <td>0.690441</td>\n",
              "      <td>0.0</td>\n",
              "      <td>0.0</td>\n",
              "      <td>1.0</td>\n",
              "      <td>0.0</td>\n",
              "      <td>1.0</td>\n",
              "      <td>0.0</td>\n",
              "    </tr>\n",
              "    <tr>\n",
              "      <th>1</th>\n",
              "      <td>0.277108</td>\n",
              "      <td>0.00</td>\n",
              "      <td>0.229008</td>\n",
              "      <td>0.0</td>\n",
              "      <td>0.0</td>\n",
              "      <td>0.0</td>\n",
              "      <td>1.0</td>\n",
              "      <td>1.0</td>\n",
              "      <td>0.0</td>\n",
              "    </tr>\n",
              "    <tr>\n",
              "      <th>2</th>\n",
              "      <td>0.534137</td>\n",
              "      <td>0.50</td>\n",
              "      <td>0.444381</td>\n",
              "      <td>0.0</td>\n",
              "      <td>0.0</td>\n",
              "      <td>1.0</td>\n",
              "      <td>0.0</td>\n",
              "      <td>1.0</td>\n",
              "      <td>0.0</td>\n",
              "    </tr>\n",
              "    <tr>\n",
              "      <th>3</th>\n",
              "      <td>0.963855</td>\n",
              "      <td>0.75</td>\n",
              "      <td>0.923476</td>\n",
              "      <td>0.0</td>\n",
              "      <td>1.0</td>\n",
              "      <td>0.0</td>\n",
              "      <td>0.0</td>\n",
              "      <td>0.0</td>\n",
              "      <td>1.0</td>\n",
              "    </tr>\n",
              "    <tr>\n",
              "      <th>4</th>\n",
              "      <td>0.397590</td>\n",
              "      <td>0.25</td>\n",
              "      <td>0.559998</td>\n",
              "      <td>1.0</td>\n",
              "      <td>0.0</td>\n",
              "      <td>0.0</td>\n",
              "      <td>0.0</td>\n",
              "      <td>0.0</td>\n",
              "      <td>1.0</td>\n",
              "    </tr>\n",
              "    <tr>\n",
              "      <th>5</th>\n",
              "      <td>0.931727</td>\n",
              "      <td>0.00</td>\n",
              "      <td>0.601326</td>\n",
              "      <td>1.0</td>\n",
              "      <td>0.0</td>\n",
              "      <td>0.0</td>\n",
              "      <td>0.0</td>\n",
              "      <td>1.0</td>\n",
              "      <td>0.0</td>\n",
              "    </tr>\n",
              "    <tr>\n",
              "      <th>6</th>\n",
              "      <td>0.779116</td>\n",
              "      <td>0.50</td>\n",
              "      <td>0.799753</td>\n",
              "      <td>0.0</td>\n",
              "      <td>0.0</td>\n",
              "      <td>0.0</td>\n",
              "      <td>1.0</td>\n",
              "      <td>0.0</td>\n",
              "      <td>1.0</td>\n",
              "    </tr>\n",
              "    <tr>\n",
              "      <th>7</th>\n",
              "      <td>0.044177</td>\n",
              "      <td>0.50</td>\n",
              "      <td>0.333560</td>\n",
              "      <td>1.0</td>\n",
              "      <td>0.0</td>\n",
              "      <td>0.0</td>\n",
              "      <td>0.0</td>\n",
              "      <td>0.0</td>\n",
              "      <td>1.0</td>\n",
              "    </tr>\n",
              "    <tr>\n",
              "      <th>8</th>\n",
              "      <td>0.843373</td>\n",
              "      <td>1.00</td>\n",
              "      <td>0.941777</td>\n",
              "      <td>0.0</td>\n",
              "      <td>1.0</td>\n",
              "      <td>0.0</td>\n",
              "      <td>0.0</td>\n",
              "      <td>0.0</td>\n",
              "      <td>1.0</td>\n",
              "    </tr>\n",
              "    <tr>\n",
              "      <th>9</th>\n",
              "      <td>0.831325</td>\n",
              "      <td>0.75</td>\n",
              "      <td>0.882787</td>\n",
              "      <td>0.0</td>\n",
              "      <td>0.0</td>\n",
              "      <td>0.0</td>\n",
              "      <td>1.0</td>\n",
              "      <td>0.0</td>\n",
              "      <td>1.0</td>\n",
              "    </tr>\n",
              "  </tbody>\n",
              "</table>\n",
              "</div>\n",
              "      <button class=\"colab-df-convert\" onclick=\"convertToInteractive('df-3dff2644-c02c-4b4d-8874-62f049530b3f')\"\n",
              "              title=\"Convert this dataframe to an interactive table.\"\n",
              "              style=\"display:none;\">\n",
              "        \n",
              "  <svg xmlns=\"http://www.w3.org/2000/svg\" height=\"24px\"viewBox=\"0 0 24 24\"\n",
              "       width=\"24px\">\n",
              "    <path d=\"M0 0h24v24H0V0z\" fill=\"none\"/>\n",
              "    <path d=\"M18.56 5.44l.94 2.06.94-2.06 2.06-.94-2.06-.94-.94-2.06-.94 2.06-2.06.94zm-11 1L8.5 8.5l.94-2.06 2.06-.94-2.06-.94L8.5 2.5l-.94 2.06-2.06.94zm10 10l.94 2.06.94-2.06 2.06-.94-2.06-.94-.94-2.06-.94 2.06-2.06.94z\"/><path d=\"M17.41 7.96l-1.37-1.37c-.4-.4-.92-.59-1.43-.59-.52 0-1.04.2-1.43.59L10.3 9.45l-7.72 7.72c-.78.78-.78 2.05 0 2.83L4 21.41c.39.39.9.59 1.41.59.51 0 1.02-.2 1.41-.59l7.78-7.78 2.81-2.81c.8-.78.8-2.07 0-2.86zM5.41 20L4 18.59l7.72-7.72 1.47 1.35L5.41 20z\"/>\n",
              "  </svg>\n",
              "      </button>\n",
              "      \n",
              "  <style>\n",
              "    .colab-df-container {\n",
              "      display:flex;\n",
              "      flex-wrap:wrap;\n",
              "      gap: 12px;\n",
              "    }\n",
              "\n",
              "    .colab-df-convert {\n",
              "      background-color: #E8F0FE;\n",
              "      border: none;\n",
              "      border-radius: 50%;\n",
              "      cursor: pointer;\n",
              "      display: none;\n",
              "      fill: #1967D2;\n",
              "      height: 32px;\n",
              "      padding: 0 0 0 0;\n",
              "      width: 32px;\n",
              "    }\n",
              "\n",
              "    .colab-df-convert:hover {\n",
              "      background-color: #E2EBFA;\n",
              "      box-shadow: 0px 1px 2px rgba(60, 64, 67, 0.3), 0px 1px 3px 1px rgba(60, 64, 67, 0.15);\n",
              "      fill: #174EA6;\n",
              "    }\n",
              "\n",
              "    [theme=dark] .colab-df-convert {\n",
              "      background-color: #3B4455;\n",
              "      fill: #D2E3FC;\n",
              "    }\n",
              "\n",
              "    [theme=dark] .colab-df-convert:hover {\n",
              "      background-color: #434B5C;\n",
              "      box-shadow: 0px 1px 3px 1px rgba(0, 0, 0, 0.15);\n",
              "      filter: drop-shadow(0px 1px 2px rgba(0, 0, 0, 0.3));\n",
              "      fill: #FFFFFF;\n",
              "    }\n",
              "  </style>\n",
              "\n",
              "      <script>\n",
              "        const buttonEl =\n",
              "          document.querySelector('#df-3dff2644-c02c-4b4d-8874-62f049530b3f button.colab-df-convert');\n",
              "        buttonEl.style.display =\n",
              "          google.colab.kernel.accessAllowed ? 'block' : 'none';\n",
              "\n",
              "        async function convertToInteractive(key) {\n",
              "          const element = document.querySelector('#df-3dff2644-c02c-4b4d-8874-62f049530b3f');\n",
              "          const dataTable =\n",
              "            await google.colab.kernel.invokeFunction('convertToInteractive',\n",
              "                                                     [key], {});\n",
              "          if (!dataTable) return;\n",
              "\n",
              "          const docLinkHtml = 'Like what you see? Visit the ' +\n",
              "            '<a target=\"_blank\" href=https://colab.research.google.com/notebooks/data_table.ipynb>data table notebook</a>'\n",
              "            + ' to learn more about interactive tables.';\n",
              "          element.innerHTML = '';\n",
              "          dataTable['output_type'] = 'display_data';\n",
              "          await google.colab.output.renderOutput(dataTable, element);\n",
              "          const docLink = document.createElement('div');\n",
              "          docLink.innerHTML = docLinkHtml;\n",
              "          element.appendChild(docLink);\n",
              "        }\n",
              "      </script>\n",
              "    </div>\n",
              "  </div>\n",
              "  "
            ]
          },
          "metadata": {},
          "execution_count": 67
        }
      ]
    },
    {
      "cell_type": "code",
      "source": [
        "from sklearn.model_selection import train_test_split\n",
        "\n",
        "x_test = test_df.drop('price', axis =1)\n",
        "y_test = test_df.drop(['sqmtrs', 'nrooms', 'view_east','view_north','view_south', 'view_west' ,'crime_rate_high', 'crime_rate_low'], axis=1)\n",
        "\n",
        "\n",
        "\n",
        "print(\"Shape x: \", x_test.shape)\n",
        "print(\"Shape y: \", y_test.shape)\n"
      ],
      "metadata": {
        "colab": {
          "base_uri": "https://localhost:8080/"
        },
        "id": "wMZvdcBaEWhK",
        "outputId": "7d4f699d-7f8c-4b82-a3f0-9f472d14e526"
      },
      "id": "wMZvdcBaEWhK",
      "execution_count": null,
      "outputs": [
        {
          "output_type": "stream",
          "name": "stdout",
          "text": [
            "Shape x:  (1200, 8)\n",
            "Shape y:  (1200, 1)\n"
          ]
        }
      ]
    },
    {
      "cell_type": "code",
      "source": [],
      "metadata": {
        "id": "KdsIrs7EFSL7"
      },
      "id": "KdsIrs7EFSL7",
      "execution_count": null,
      "outputs": []
    },
    {
      "cell_type": "code",
      "source": [
        "# test results\n",
        "test_pred_1_1 = model_1_1.predict(x_test)\n",
        "test_mse_1_1 = mean_squared_error(y_test, test_pred_1_1)\n",
        "print(test_mse_1_1)\n",
        "\n",
        "test_pred_1_2 = model_1_2.predict(x_test)\n",
        "test_mse_1_2 = mean_squared_error(y_test, test_pred_1_2)\n",
        "print(test_mse_1_2)\n",
        "\n",
        "test_pred_1_3 = model_1_3.predict(x_test)\n",
        "test_mse_1_3 = mean_squared_error(y_test, test_pred_1_3)\n",
        "print(test_mse_1_3)\n",
        "\n",
        "\n",
        "test_pred_2_1 = model_2_1.predict(x_test)\n",
        "test_mse_2_1 = mean_squared_error(y_test, test_pred_2_1)\n",
        "print(test_mse_2_1)\n",
        "\n",
        "test_pred_2_2 = model_2_2.predict(x_test)\n",
        "test_mse_2_2 = mean_squared_error(y_test, test_pred_2_2)\n",
        "print(test_mse_2_2)\n",
        "\n",
        "test_pred_2_3 = model_2_3.predict(x_test)\n",
        "test_mse_2_3 = mean_squared_error(y_test, test_pred_2_3)\n",
        "print(test_mse_2_3)\n"
      ],
      "metadata": {
        "colab": {
          "base_uri": "https://localhost:8080/"
        },
        "id": "Kwl6mjTjCvkJ",
        "outputId": "cc9b4350-9296-4574-dd33-17876467d434"
      },
      "id": "Kwl6mjTjCvkJ",
      "execution_count": null,
      "outputs": [
        {
          "output_type": "stream",
          "name": "stdout",
          "text": [
            "0.0004593829399713719\n",
            "0.0006745430083613657\n",
            "0.0011882711421169893\n",
            "0.00045225724394499844\n",
            "0.0005372627404992716\n",
            "0.0005475356209765702\n"
          ]
        }
      ]
    },
    {
      "cell_type": "markdown",
      "metadata": {
        "id": "Qg0mDfdNJgrd"
      },
      "source": [
        "##8) Report Your Results (10 pts)\n",
        "\n",
        "**Notebook should be RUN:** As training and testing may take a long time, we may just look at your notebook results without running the code again; so make sure **each cell is run**, so outputs are there.\n",
        "\n",
        "**Report:** Write an **1-2 page summary** of your approach to this problem **as indicated below**. \n",
        "\n",
        "**Must include statements such as those below:**\n",
        "**(Remove the text in parentheses, below, and include your own report)**\n",
        "\n",
        "( Include the problem definition: 1-2 lines )\n",
        "\n",
        " (Talk about train/val/test sets, size and how split. )\n",
        "\n",
        " (Talk about feature extraction or preprocessing.)\n",
        "\n",
        "**Add your observations as follows** (keep the questions for easy grading/context) in the report part of your notebook.\n",
        "\n",
        "**Observations**\n",
        "\n",
        "- Try a few learning rates for N=25 hidden neurons,  train for the indicated amount of epochs. Comment on what happens when learning rate is large or small? What is a good number/range for the learning rate?\n",
        "Your answer here….\n",
        "\n",
        "- Use that learning rate and vary the number of hidden neurons for the given values and try the indicated number of epochs. Give the validation mean squared errors for different approach and meta-parameters tried **in a table** and state which one you selected as your model. How many hidden neurons give the best model? \n",
        "Your answer here….\n",
        "\n",
        "- State  what your test results are with the chosen approach and meta-parameters: e.g. \"We have obtained the best results on the validation set with the ..........approach using a value of ...... for .... parameter. The result of this model on the test data is ..... % accuracy.\"\" \n",
        "\n",
        "- How slow is learning? Any other problems?\n",
        "Your answer here….\n",
        "\n",
        "- Any other observations (not obligatory)\n",
        "\n",
        " You can add additional visualization as separate pages if you want, think of them as appendix, keeping the summary to 1-2-pages.\n",
        "\n"
      ],
      "id": "Qg0mDfdNJgrd"
    }
  ]
}